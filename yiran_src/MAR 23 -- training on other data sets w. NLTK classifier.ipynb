{
 "cells": [
  {
   "cell_type": "markdown",
   "metadata": {},
   "source": [
    "### SA on sentences w/ medication\n",
    "http://textminingonline.com/dive-into-nltk-part-ix-from-text-classification-to-sentiment-analysis"
   ]
  },
  {
   "cell_type": "code",
   "execution_count": 1,
   "metadata": {
    "collapsed": true
   },
   "outputs": [],
   "source": [
    "# Trained with nltk movie_reviews"
   ]
  },
  {
   "cell_type": "code",
   "execution_count": 2,
   "metadata": {
    "collapsed": false
   },
   "outputs": [
    {
     "name": "stderr",
     "output_type": "stream",
     "text": [
      "/Users/elenajia/anaconda/lib/python3.6/site-packages/nltk/twitter/__init__.py:20: UserWarning: The twython library has not been installed. Some functionality from the twitter package will not be available.\n",
      "  warnings.warn(\"The twython library has not been installed. \"\n"
     ]
    }
   ],
   "source": [
    "import nltk\n",
    "from nltk.corpus import movie_reviews\n",
    "from random import shuffle\n",
    "from nltk import tokenize\n",
    "from nltk.tokenize import TweetTokenizer\n",
    "from stop_words import get_stop_words\n",
    "from nltk.stem.porter import PorterStemmer\n",
    "from gensim import corpora, models\n",
    "import pandas as pd\n",
    "import gensim\n",
    "import nltk\n",
    "import numbers\n",
    "from nltk.sentiment.vader import SentimentIntensityAnalyzer\n",
    "\n",
    "tknzr = TweetTokenizer()"
   ]
  },
  {
   "cell_type": "code",
   "execution_count": 3,
   "metadata": {
    "collapsed": true
   },
   "outputs": [],
   "source": [
    "def document_features(document):\n",
    "    document_words = set(document)\n",
    "    features = {}\n",
    "    for word in word_features:\n",
    "        features['contains(%s)' % word] = (word in document_words)\n",
    "    return features"
   ]
  },
  {
   "cell_type": "code",
   "execution_count": 4,
   "metadata": {
    "collapsed": false
   },
   "outputs": [],
   "source": [
    "documents = [(list(movie_reviews.words(fileid)), category) \n",
    "for category in movie_reviews.categories()\n",
    "for fileid in movie_reviews.fileids(category)]"
   ]
  },
  {
   "cell_type": "code",
   "execution_count": 5,
   "metadata": {
    "collapsed": true
   },
   "outputs": [],
   "source": [
    "shuffle(documents)"
   ]
  },
  {
   "cell_type": "code",
   "execution_count": 6,
   "metadata": {
    "collapsed": false
   },
   "outputs": [
    {
     "name": "stdout",
     "output_type": "stream",
     "text": [
      "(['there', 'isn', \"'\", 't', 'much', 'good', 'about', 'this', 'movie', '.', 'not', 'much', 'i', 'can', 'say', 'about', 'the', 'acting', ',', 'directing', ',', 'or', 'writing', 'that', 'would', 'make', 'you', 'consider', 'seeing', 'this', 'movie', '.', 'so', 'i', \"'\", 'll', 'get', 'my', 'one', 'good', 'comment', 'out', 'of', 'the', 'way', ',', 'at', 'least', 'joel', 'schuemacher', '(', 'batman', '&', 'robin', ')', 'didn', \"'\", 't', 'direct', 'it', 'or', 'it', 'would', 'be', 'titled', '\"', 'technicolor', 'city', '\"', '.', 'in', 'fact', 'there', 'is', 'nothing', 'colorful', 'about', 'this', 'movie', ',', 'its', 'dark', 'and', 'depressingly', 'gloomy', 'right', 'down', 'to', 'the', 'bitter', 'end', '.', 'the', 'plot', 'has', 'a', 'tendency', 'to', 'be', 'interesting', ',', 'but', 'all', 'that', 'passes', 'while', 'your', 'laughing', 'at', 'the', 'ridiculous', 'things', 'thrown', 'into', 'what', 'could', 'have', 'been', 'a', 'fascinating', 'movie', '.', 'the', 'plot', 'is', 'impossible', 'to', 'explain', 'due', 'to', 'how', 'senseless', 'it', 'gets', ',', 'so', 'i', 'will', 'just', 'touch', 'on', 'the', 'bare', 'minimum', '.', 'john', 'murdoch', '(', 'rufus', 'sewell', ')', 'awakes', 'in', 'the', 'bathtub', 'of', 'a', 'cheap', 'hotel', ',', 'only', 'to', 'find', 'out', 'he', 'has', 'forgotten', 'everything', '.', 'john', 'must', 'find', 'out', 'who', 'he', 'is', 'before', 'the', '\"', 'strangers', '\"', '(', 'a', '.', 'k', '.', 'a', '.', 'mind', 'erasing', 'aliens', ')', 'find', 'him', 'and', 'use', 'him', 'for', 'their', 'own', 'evil', 'conspiracy', '.', 'during', 'the', 'film', 'some', 'interesting', 'points', 'are', 'raised', 'about', 'human', 'individuality', ',', 'and', 'the', 'existence', 'of', 'inherently', 'evil', 'people', '.', 'any', 'of', 'these', 'points', 'however', 'are', 'completely', '\"', 'erased', '\"', 'from', 'your', 'mind', 'as', 'you', 'watch', 'the', 'actors', 'stumble', 'through', 'the', 'dreadful', 'script', '.', 'as', 'i', 'mentioned', 'earlier', ',', 'nothing', 'but', 'the', 'atmosphere', 'is', 'right', 'in', 'this', 'film', '.', 'the', 'acting', 'is', 'bland', ',', 'and', 'since', 'there', 'is', 'virtually', 'no', 'character', 'development', 'no', 'one', 'seems', 'to', 'care', '.', 'the', 'special', 'effects', 'are', 'low', 'budget', 'and', 'some', 'even', 'hilariously', 'fake', ',', 'a', 'sign', 'of', 'a', 'true', '\"', 'b', '-', 'movie', '\"', '.', 'the', 'direction', 'is', 'poor', 'and', 'there', 'is', 'little', 'continuity', ',', 'not', 'that', 'you', 'would', 'expect', 'it', 'in', 'a', 'movie', 'switching', 'realities', 'constantly', '.', 'lastly', 'the', 'script', 'is', 'weak', 'and', 'has', 'no', 'concept', 'of', 'reality', ',', 'and', 'doesn', \"'\", 't', 'deserve', 'to', 'have', 'the', 'word', '\"', 'science', '\"', 'in', 'science', '-', 'fiction', '.', 'if', 'i', 'haven', \"'\", 't', 'got', 'my', 'point', 'across', ',', 'i', \"'\", 'll', 'say', 'it', 'more', 'plainly', ':', 'this', 'is', 'a', 'bad', 'movie', '.', 'lets', 'hope', 'the', 'next', 'movie', 'by', 'alex', '\"', 'i', 'wish', 'i', 'was', 'tim', 'burton', '\"', 'proyas', 'is', 'at', 'least', 'tolerable', '.'], 'neg')\n"
     ]
    }
   ],
   "source": [
    "print (documents[0])"
   ]
  },
  {
   "cell_type": "code",
   "execution_count": 7,
   "metadata": {
    "collapsed": false
   },
   "outputs": [
    {
     "data": {
      "text/plain": [
       "2000"
      ]
     },
     "execution_count": 7,
     "metadata": {},
     "output_type": "execute_result"
    }
   ],
   "source": [
    "len(documents)"
   ]
  },
  {
   "cell_type": "code",
   "execution_count": 8,
   "metadata": {
    "collapsed": true
   },
   "outputs": [],
   "source": [
    "all_words = nltk.FreqDist(w.lower() for w in movie_reviews.words())"
   ]
  },
  {
   "cell_type": "code",
   "execution_count": 9,
   "metadata": {
    "collapsed": false
   },
   "outputs": [],
   "source": [
    "# word_features = all_words.keys()[:2000]\n",
    "word_features = list(all_words.keys())[:2000]"
   ]
  },
  {
   "cell_type": "code",
   "execution_count": 10,
   "metadata": {
    "collapsed": false
   },
   "outputs": [],
   "source": [
    "# len(featuresets)"
   ]
  },
  {
   "cell_type": "code",
   "execution_count": 11,
   "metadata": {
    "collapsed": false
   },
   "outputs": [],
   "source": [
    "# print (document_features(movie_reviews.words('pos/cv957_8737.txt')))"
   ]
  },
  {
   "cell_type": "code",
   "execution_count": 12,
   "metadata": {
    "collapsed": false
   },
   "outputs": [],
   "source": [
    "featuresets = [(document_features(d), c) for (d, c) in documents]"
   ]
  },
  {
   "cell_type": "code",
   "execution_count": 13,
   "metadata": {
    "collapsed": true
   },
   "outputs": [],
   "source": [
    "train_set, test_set = featuresets[100:], featuresets[:100]"
   ]
  },
  {
   "cell_type": "code",
   "execution_count": 14,
   "metadata": {
    "collapsed": true
   },
   "outputs": [],
   "source": [
    "# classifier = nltk.NaiveBayesClassifier.train(train_set)\n",
    "\n",
    "full_classifier = nltk.NaiveBayesClassifier.train(featuresets)"
   ]
  },
  {
   "cell_type": "code",
   "execution_count": 15,
   "metadata": {
    "collapsed": false
   },
   "outputs": [
    {
     "name": "stdout",
     "output_type": "stream",
     "text": [
      "0.89\n"
     ]
    }
   ],
   "source": [
    "print (nltk.classify.accuracy(full_classifier, test_set))"
   ]
  },
  {
   "cell_type": "code",
   "execution_count": 16,
   "metadata": {
    "collapsed": false,
    "scrolled": true
   },
   "outputs": [],
   "source": [
    "# classifier.show_most_informative_features(10)"
   ]
  },
  {
   "cell_type": "markdown",
   "metadata": {},
   "source": [
    "### test"
   ]
  },
  {
   "cell_type": "code",
   "execution_count": null,
   "metadata": {
    "collapsed": false
   },
   "outputs": [],
   "source": []
  },
  {
   "cell_type": "code",
   "execution_count": 17,
   "metadata": {
    "collapsed": true
   },
   "outputs": [],
   "source": [
    "df1 = pd.read_csv('s_med.csv')"
   ]
  },
  {
   "cell_type": "code",
   "execution_count": 18,
   "metadata": {
    "collapsed": true
   },
   "outputs": [],
   "source": [
    "sent_a = list(df1['med_sentence'].values)"
   ]
  },
  {
   "cell_type": "code",
   "execution_count": 19,
   "metadata": {
    "collapsed": false
   },
   "outputs": [
    {
     "name": "stdout",
     "output_type": "stream",
     "text": [
      "0.885723724508\n",
      "0.647\n",
      "      neg_prob  pos_prob  neg_vader  neu_vader  pos_vader  \\\n",
      "0     0.999358  0.000642      0.227      0.724      0.049   \n",
      "1     0.999837  0.000163      0.081      0.791      0.128   \n",
      "2     0.999824  0.000176      0.000      0.851      0.149   \n",
      "3     0.999947  0.000053      0.000      1.000      0.000   \n",
      "4     0.996569  0.003431      0.032      0.770      0.198   \n",
      "5     0.999981  0.000019      0.000      1.000      0.000   \n",
      "6     0.999828  0.000172      0.000      0.695      0.305   \n",
      "7     0.999943  0.000057      0.000      0.794      0.206   \n",
      "8     0.999760  0.000240      0.083      0.917      0.000   \n",
      "9     0.999171  0.000829      0.251      0.749      0.000   \n",
      "10    0.999660  0.000340      0.000      1.000      0.000   \n",
      "11    0.999869  0.000131      0.052      0.862      0.086   \n",
      "12    0.998438  0.001562      0.187      0.750      0.063   \n",
      "13    0.999779  0.000221      0.066      0.778      0.156   \n",
      "14    0.999931  0.000069      0.000      0.915      0.085   \n",
      "15    0.999954  0.000046      0.322      0.678      0.000   \n",
      "16    0.999837  0.000163      0.000      1.000      0.000   \n",
      "17    0.999772  0.000228      0.000      0.737      0.263   \n",
      "18    0.999973  0.000027      0.000      1.000      0.000   \n",
      "19    0.999979  0.000021      0.230      0.531      0.239   \n",
      "20    0.999369  0.000631      0.066      0.817      0.117   \n",
      "21    0.999499  0.000501      0.000      1.000      0.000   \n",
      "22    0.999977  0.000023      0.298      0.702      0.000   \n",
      "23    0.999989  0.000011      0.000      0.815      0.185   \n",
      "24    0.999243  0.000757      0.000      0.817      0.183   \n",
      "25    0.999971  0.000029      0.000      1.000      0.000   \n",
      "26    0.999941  0.000059      0.000      1.000      0.000   \n",
      "27    0.999972  0.000028      0.000      1.000      0.000   \n",
      "28    0.996509  0.003491      0.000      0.912      0.088   \n",
      "29    0.999913  0.000087      0.084      0.916      0.000   \n",
      "...        ...       ...        ...        ...        ...   \n",
      "4970  0.999946  0.000054      0.000      0.863      0.137   \n",
      "4971  0.999881  0.000119      0.000      1.000      0.000   \n",
      "4972  0.999913  0.000087      0.000      0.905      0.095   \n",
      "4973  0.995017  0.004983      0.126      0.736      0.139   \n",
      "4974  0.999774  0.000226      0.070      0.930      0.000   \n",
      "4975  0.999941  0.000059      0.358      0.535      0.107   \n",
      "4976  0.999922  0.000078      0.221      0.574      0.205   \n",
      "4977  0.999963  0.000037      0.118      0.720      0.162   \n",
      "4978  0.999967  0.000033      0.666      0.334      0.000   \n",
      "4979  0.972902  0.027098      0.225      0.572      0.203   \n",
      "4980  0.999648  0.000352      0.000      0.781      0.219   \n",
      "4981  0.997157  0.002843      0.069      0.727      0.204   \n",
      "4982  0.996081  0.003919      0.069      0.876      0.055   \n",
      "4983  0.999971  0.000029      0.362      0.638      0.000   \n",
      "4984  0.999715  0.000285      0.304      0.613      0.083   \n",
      "4985  0.999922  0.000078      0.286      0.714      0.000   \n",
      "4986  0.999865  0.000135      0.000      1.000      0.000   \n",
      "4987  0.997060  0.002940      0.218      0.782      0.000   \n",
      "4988  0.999701  0.000299      0.000      1.000      0.000   \n",
      "4989  0.999915  0.000085      0.000      1.000      0.000   \n",
      "4990  0.999974  0.000026      0.000      0.798      0.202   \n",
      "4991  0.998933  0.001067      0.342      0.658      0.000   \n",
      "4992  0.999961  0.000039      0.000      0.710      0.290   \n",
      "4993  0.999433  0.000567      0.066      0.934      0.000   \n",
      "4994  0.999986  0.000014      0.000      0.833      0.167   \n",
      "4995  0.999729  0.000271      0.000      1.000      0.000   \n",
      "4996  0.999949  0.000051      0.302      0.698      0.000   \n",
      "4997  0.997440  0.002560      0.000      0.895      0.105   \n",
      "4998  0.999960  0.000040      0.000      1.000      0.000   \n",
      "4999  0.999931  0.000069      0.000      0.690      0.310   \n",
      "\n",
      "                                               sentence  \n",
      "0     I have a feeling that this will only get worse...  \n",
      "1     I've tried medications but they only made me f...  \n",
      "2     I'm against taking medication after what I had...  \n",
      "3     I see my doctor next week and I don't know wha...  \n",
      "4     A bit of a strange question, I suppose, but he...  \n",
      "5     I'm currently getting off lexapro and I've had...  \n",
      "6     I honestly think the only thing left that woul...  \n",
      "7     How can I make it clear to whoever can actuall...  \n",
      "8     I've always what I'd consider moderate anxiety...  \n",
      "9     I scheduled a GP appointment last week and he ...  \n",
      "10    I can't afford a consular right now or medicat...  \n",
      "11    This last time she asked I explained that I wa...  \n",
      "12    I first went it wanting to treat my anxiety wh...  \n",
      "13    I've put thought into it, and I still want to ...  \n",
      "14    Or should I go back to the doctor and tell him...  \n",
      "15    The medications I've tried are\\n\\nFluoxetine: ...  \n",
      "16    **Actual experiences with meds will be quoted,...  \n",
      "17    Mentally, this medication made me feel like a ...  \n",
      "18    BUT I currently do not take any medication at ...  \n",
      "19    I wish it was something they could treat with ...  \n",
      "20    I do not have depression or anxiety, I have ne...  \n",
      "21    Though recently I heard that some people on an...  \n",
      "22                  Is anxiety manageable without meds?  \n",
      "23    I guess after all this rambling.. my question ...  \n",
      "24    I'm trying to get pregnant and the last thing ...  \n",
      "25    I've gotten myself on some meds for this, and ...  \n",
      "26    Also, how do you approach your doctor for a sp...  \n",
      "27    Hey guys,\\n\\nI just got prescribed new meds Le...  \n",
      "28    But then he goes onto say that it doesn't real...  \n",
      "29    Instead she said that every symptom I've ever ...  \n",
      "...                                                 ...  \n",
      "4970  Since I want to stay far away from meds, I was...  \n",
      "4971  I've been on regular medication for anxiety/de...  \n",
      "4972  After having several breakdowns last semester,...  \n",
      "4973  I'm also scared of being prescribed medication...  \n",
      "4974  I've never been on any medication for anxiety ...  \n",
      "4975  The bigger problem is that I'm not sure my med...  \n",
      "4976  Does this sound like a medication problem, or ...  \n",
      "4977  I'm not sure if there are any other anti-anxie...  \n",
      "4978                            I absolutely hate meds.  \n",
      "4979  TL;DR: After a successful month of reducing an...  \n",
      "4980  Many say medication may not work for everyone,...  \n",
      "4981  Even though I've been taking my meds, and took...  \n",
      "4982  I was off my meds for a couple days ( due to b...  \n",
      "4983                         Put on anxiety medication.  \n",
      "4984  But when i'm mid-anxiety attack (right now), o...  \n",
      "4985  I have never been diagnosed with anxiety disor...  \n",
      "4986  Was on several meds up until I was about 15 an...  \n",
      "4987  Which brings me to the medication issue: I use...  \n",
      "4988  I see a therapist and psychiatrist, and take a...  \n",
      "4989  I see a therapist, I take medications, I medit...  \n",
      "4990                   I'm not on any anxiety meds btw.  \n",
      "4991  So after years without feeling any abnormal an...  \n",
      "4992  Glad that I'm okay now and don't need any meds...  \n",
      "4993  The past two years have been filled with psych...  \n",
      "4994  Is there any safe short term meds I can get th...  \n",
      "4995  So I started my first round of medication,  20...  \n",
      "4996  Im paranoid about this medication now, im not ...  \n",
      "4997  I'm just very new to the meds world (only near...  \n",
      "4998  I was about 2-3 hours late for taking my meds ...  \n",
      "4999  I take medication to help control my anxiety/d...  \n",
      "\n",
      "[5000 rows x 6 columns]\n"
     ]
    }
   ],
   "source": [
    "res_s_dic = []\n",
    "# res_s_dic1 = []\n",
    "\n",
    "df_res_s = pd.DataFrame([])\n",
    "\n",
    "sid = SentimentIntensityAnalyzer()\n",
    "\n",
    "for i, sentence in enumerate(sent_a[:5000]):\n",
    "    test_set = document_features(tknzr.tokenize(sentence))  #TODO: change to tokenize\n",
    "    # res_s_dic1.append(classifier.classify(test_set))\n",
    "    \n",
    "    prob_result = full_classifier.prob_classify(test_set)\n",
    "    \n",
    "    #     dic = {}\n",
    "    #     dic[\"s\"] = sentence\n",
    "    #     dic[\"neg\"] = prob_result.prob(\"neg\")\n",
    "    #     dic[\"pos\"] = prob_result.prob(\"pos\")\n",
    "    \n",
    "    # res_s_dic.append(dic)\n",
    "    df_res_s.loc[i,'neg_prob'] = prob_result.prob(\"neg\")\n",
    "    df_res_s.loc[i,'pos_prob'] = prob_result.prob(\"pos\")\n",
    "    \n",
    "    sid_s = sid.polarity_scores(sentence)\n",
    "    df_res_s.loc[i,'neg_vader'] = sid_s['neg']\n",
    "    df_res_s.loc[i,'neu_vader'] = sid_s['neu']\n",
    "    df_res_s.loc[i,'pos_vader'] = sid_s['pos']\n",
    "    \n",
    "    df_res_s.loc[i,'sentence'] = sentence\n",
    "    \n",
    "# df_res_s[df_res_s['pos_prob'] > .001]['sentence']\n",
    "print(df_res_s['pos_prob'].max())\n",
    "print(df_res_s['pos_vader'].max())\n",
    "df_res_s.to_csv('s_med_with_score_first5000.csv')\n",
    "print (df_res_s)"
   ]
  },
  {
   "cell_type": "code",
   "execution_count": 20,
   "metadata": {
    "collapsed": false
   },
   "outputs": [
    {
     "name": "stdout",
     "output_type": "stream",
     "text": [
      "0.9999248550133579 7.51449866528843e-05\n"
     ]
    }
   ],
   "source": [
    "prob_result = full_classifier.prob_classify(document_features(tknzr.tokenize(str('I love it! This is great!!!'))))\n",
    "print(prob_result.prob(\"neg\"), prob_result.prob(\"pos\"))\n"
   ]
  },
  {
   "cell_type": "code",
   "execution_count": 21,
   "metadata": {
    "collapsed": false
   },
   "outputs": [],
   "source": [
    "# df_res_s = pd.DataFrame(res_s_dic)\n",
    "# print (df_res_s)\n",
    "\n",
    "# df_res_s.to_csv('s_med_with_score_first100.csv')"
   ]
  },
  {
   "cell_type": "code",
   "execution_count": 22,
   "metadata": {
    "collapsed": true
   },
   "outputs": [],
   "source": [
    "import seaborn as sns\n",
    "%matplotlib inline\n",
    "sns.set_style(\"whitegrid\")"
   ]
  },
  {
   "cell_type": "code",
   "execution_count": 23,
   "metadata": {
    "collapsed": false
   },
   "outputs": [
    {
     "data": {
      "image/png": "[encoded data removed]",
      "text/plain": [
       "<matplotlib.figure.Figure at 0x11f8775f8>"
      ]
     },
     "metadata": {},
     "output_type": "display_data"
    }
   ],
   "source": [
    "ax = sns.boxplot(data = df_res_s,palette = \"PRGn\")"
   ]
  },
  {
   "cell_type": "markdown",
   "metadata": {
    "collapsed": true
   },
   "source": [
    "#### posts"
   ]
  },
  {
   "cell_type": "code",
   "execution_count": 24,
   "metadata": {
    "collapsed": true
   },
   "outputs": [],
   "source": [
    "df2 = pd.read_csv('p_med.csv')"
   ]
  },
  {
   "cell_type": "code",
   "execution_count": 25,
   "metadata": {
    "collapsed": false
   },
   "outputs": [],
   "source": [
    "post_a = list(df2['selftext'].values)"
   ]
  },
  {
   "cell_type": "code",
   "execution_count": 32,
   "metadata": {
    "collapsed": false
   },
   "outputs": [
    {
     "name": "stdout",
     "output_type": "stream",
     "text": [
      "0.999998620353\n",
      "0.344\n",
      "      neg_prob  pos_prob  neg_vader  neu_vader  pos_vader  \\\n",
      "0     0.987449  0.012551      0.156      0.771      0.073   \n",
      "1     0.994773  0.005227      0.204      0.708      0.088   \n",
      "2     0.997802  0.002198      0.263      0.688      0.049   \n",
      "3     0.928401  0.071599      0.164      0.730      0.106   \n",
      "4     0.999992  0.000008      0.000      0.950      0.050   \n",
      "5     0.997977  0.002023      0.209      0.754      0.038   \n",
      "6     0.997678  0.002322      0.092      0.808      0.100   \n",
      "7     0.998581  0.001419      0.109      0.696      0.195   \n",
      "8     0.117632  0.882368      0.200      0.714      0.086   \n",
      "9     0.132913  0.867087      0.085      0.786      0.128   \n",
      "10    0.999156  0.000844      0.121      0.808      0.071   \n",
      "11    0.039714  0.960286      0.160      0.723      0.117   \n",
      "12    0.993021  0.006979      0.153      0.787      0.060   \n",
      "13    0.999615  0.000385      0.273      0.596      0.130   \n",
      "14    0.658450  0.341550      0.088      0.856      0.057   \n",
      "15    0.661465  0.338535      0.137      0.775      0.089   \n",
      "16    0.666711  0.333289      0.168      0.719      0.113   \n",
      "17    0.998763  0.001237      0.110      0.817      0.073   \n",
      "18    0.999156  0.000844      0.081      0.778      0.141   \n",
      "19    0.999362  0.000638      0.142      0.795      0.063   \n",
      "20    0.997136  0.002864      0.097      0.753      0.150   \n",
      "21    0.867109  0.132891      0.138      0.743      0.118   \n",
      "22    0.999998  0.000002      0.224      0.671      0.105   \n",
      "23    0.995570  0.004430      0.103      0.818      0.079   \n",
      "24    0.002008  0.997992      0.091      0.818      0.092   \n",
      "25    0.999987  0.000013      0.153      0.743      0.103   \n",
      "26    0.999607  0.000393      0.245      0.663      0.092   \n",
      "27    0.970572  0.029428      0.220      0.702      0.078   \n",
      "28    0.999907  0.000093      0.257      0.617      0.126   \n",
      "29    0.998470  0.001530      0.077      0.832      0.092   \n",
      "...        ...       ...        ...        ...        ...   \n",
      "4970  0.944321  0.055679      0.172      0.677      0.151   \n",
      "4971  0.690706  0.309294      0.164      0.799      0.036   \n",
      "4972  0.991909  0.008091      0.100      0.884      0.015   \n",
      "4973  0.990426  0.009574      0.153      0.755      0.092   \n",
      "4974  0.504303  0.495697      0.080      0.781      0.138   \n",
      "4975  0.998869  0.001131      0.256      0.661      0.083   \n",
      "4976  0.012403  0.987597      0.193      0.708      0.099   \n",
      "4977  0.977946  0.022054      0.092      0.740      0.169   \n",
      "4978  0.999819  0.000181      0.143      0.791      0.065   \n",
      "4979  0.999813  0.000187      0.114      0.742      0.144   \n",
      "4980  0.994706  0.005294      0.158      0.710      0.132   \n",
      "4981  0.849696  0.150304      0.235      0.661      0.103   \n",
      "4982  0.533373  0.466627      0.199      0.755      0.045   \n",
      "4983  0.876860  0.123140      0.057      0.831      0.112   \n",
      "4984  0.270861  0.729139      0.169      0.728      0.103   \n",
      "4985  0.999619  0.000381      0.148      0.794      0.058   \n",
      "4986  0.998950  0.001050      0.090      0.800      0.110   \n",
      "4987  0.999320  0.000680      0.230      0.746      0.025   \n",
      "4988  0.999907  0.000093      0.180      0.706      0.114   \n",
      "4989  0.974733  0.025267      0.058      0.873      0.069   \n",
      "4990  0.515982  0.484018      0.207      0.697      0.096   \n",
      "4991  0.099433  0.900567      0.113      0.817      0.070   \n",
      "4992  0.995485  0.004515      0.127      0.797      0.076   \n",
      "4993  0.999789  0.000211      0.107      0.826      0.067   \n",
      "4994  0.994558  0.005442      0.135      0.784      0.081   \n",
      "4995  0.999956  0.000044      0.162      0.766      0.071   \n",
      "4996  0.978071  0.021929      0.084      0.916      0.000   \n",
      "4997  0.997287  0.002713      0.185      0.762      0.053   \n",
      "4998  0.999978  0.000022      0.120      0.705      0.176   \n",
      "4999  0.955487  0.044513      0.234      0.704      0.062   \n",
      "\n",
      "                                                   post  \n",
      "0     Second day on drugs and it has already started...  \n",
      "1     I'm not sure where to start. I've been lurking...  \n",
      "2     I'm a 23 year old female and I've been battlin...  \n",
      "3     A bit of a strange question, I suppose, but he...  \n",
      "4     Has anyone ever had this experience that nothi...  \n",
      "5     To start, I'm using a throwaway/anonymous acco...  \n",
      "6     I've always what I'd consider moderate anxiety...  \n",
      "7     Hey everyone. I've been lurking here for aroun...  \n",
      "8     I have GAD, I have had many anxieties come and...  \n",
      "9     I have a nearly impossible time saying no to a...  \n",
      "10    I've been working with my doctor over the past...  \n",
      "11    **Actual experiences with meds will be quoted,...  \n",
      "12    I am a 19 year old female diagnosed with a GAD...  \n",
      "13    Have been having difficulty breathing and ches...  \n",
      "14    I do not have depression or anxiety, I have ne...  \n",
      "15    I am in desperate need of some help... and I n...  \n",
      "16    I think I need to pour this out in one place. ...  \n",
      "17    I am in the process of seeing a Psychiatrist a...  \n",
      "18    Hey guys,\\n\\nI just got prescribed new meds Le...  \n",
      "19    This week has just been awful for me anxiety w...  \n",
      "20    Two years ago I started seeing a psychiatrist ...  \n",
      "21    I'll make a long story short. \\n\\nI have Pure ...  \n",
      "22    I really hate doing this but it seems like any...  \n",
      "23    So I finally mustered up the courage to go to ...  \n",
      "24    Hi guys, \\n\\nI've had an acute (but severe) an...  \n",
      "25    I was diagnosed with severe depression and anx...  \n",
      "26    It was fine until I stopped taking my antidepr...  \n",
      "27    I spent my morning in the ER today because I w...  \n",
      "28    So I lied to my girlfriend. I know its wrong. ...  \n",
      "29    Hey guys, I have an issue with anxiety (surpri...  \n",
      "...                                                 ...  \n",
      "4970  Hello there friendly stranger.\\n A little back...  \n",
      "4971  My fears seem to constantly shift, and now the...  \n",
      "4972  For a long time I battled hearing that Anxiety...  \n",
      "4973  I am so happy I've found this board!\\n\\nSo bas...  \n",
      "4974  Last night I could barely sleep. You know you ...  \n",
      "4975  I've been dealing with low blood pressure even...  \n",
      "4976  Hey there guys , first time posting , long tim...  \n",
      "4977  I'm currently involved in a Cognitive-Behavior...  \n",
      "4978  I have been on lexapro for about 3-4 months an...  \n",
      "4979  Alright guys, I've been suffering with mild an...  \n",
      "4980  Throwaway because I know some people that know...  \n",
      "4981  I don't know where to start exactly.. I'm 20 y...  \n",
      "4982  I finally had the courage back in March to see...  \n",
      "4983  Hello,\\n\\n\\nThrowaway here because friends kno...  \n",
      "4984  Hi. I've never posted here before, but I'm Bec...  \n",
      "4985  i'm 25 in a few months. never had sex or even ...  \n",
      "4986  So I'll start by saying, I dont do well with t...  \n",
      "4987  Therapists, medications, doctors, not to menti...  \n",
      "4988  Hello all,\\n\\nI've had anxiety all my life. Wh...  \n",
      "4989  I've been experiencing anxiety in various form...  \n",
      "4990  Hi r/Anxiety,\\n\\nI thought I'd turn to you for...  \n",
      "4991  (Crossposting to /r/needadvice)\\n\\nI am twenty...  \n",
      "4992  Obviously I would need to see a doctor/psychol...  \n",
      "4993  I'm not totally sure if this is a side effect ...  \n",
      "4994  Hello, \\nI'm writing this to see if any fellow...  \n",
      "4995  I'm sure this applies to most antidepressants ...  \n",
      "4996  I'm very weary about medications as the side e...  \n",
      "4997  I have yet to discuss my anxiety and worrying ...  \n",
      "4998  So yeah, just wanting to ask what medications ...  \n",
      "4999  I've had anxiety and mild depression my whole ...  \n",
      "\n",
      "[5000 rows x 6 columns]\n"
     ]
    }
   ],
   "source": [
    "res_p_dic = []\n",
    "\n",
    "df_res_p = pd.DataFrame([])\n",
    "\n",
    "\n",
    "for i, post in enumerate(post_a[:5000]):\n",
    "    \n",
    "    test_set = document_features(tknzr.tokenize(str(post)))  #TODO: change to tokenize\n",
    "    # res_s_dic1.append(classifier.classify(test_set))\n",
    "    \n",
    "    prob_result = full_classifier.prob_classify(test_set)\n",
    "    \n",
    "    #     dic = {}\n",
    "    #     dic[\"s\"] = sentence\n",
    "    #     dic[\"neg\"] = prob_result.prob(\"neg\")\n",
    "    #     dic[\"pos\"] = prob_result.prob(\"pos\")\n",
    "    \n",
    "    # res_s_dic.append(dic)\n",
    "    df_res_p.loc[i,'neg_prob'] = prob_result.prob(\"neg\")\n",
    "    df_res_p.loc[i,'pos_prob'] = prob_result.prob(\"pos\")\n",
    "    \n",
    "    sid_p = sid.polarity_scores(str(post))\n",
    "    df_res_p.loc[i,'neg_vader'] = sid_p['neg']\n",
    "    df_res_p.loc[i,'neu_vader'] = sid_p['neu']\n",
    "    df_res_p.loc[i,'pos_vader'] = sid_p['pos']\n",
    "    \n",
    "    df_res_p.loc[i,'post'] = post\n",
    "    \n",
    "    \n",
    "# df_res_s[df_res_s['pos_prob'] > .001]['sentence']\n",
    "print(df_res_p['pos_prob'].max())\n",
    "print(df_res_p['pos_vader'].max())\n",
    "df_res_p.to_csv('p_med_with_score_first5000.csv')\n",
    "print (df_res_p)\n",
    "\n"
   ]
  },
  {
   "cell_type": "code",
   "execution_count": 33,
   "metadata": {
    "collapsed": false
   },
   "outputs": [
    {
     "data": {
      "image/png": "[encoded data removed]",
      "text/plain": [
       "<matplotlib.figure.Figure at 0x11fdf1978>"
      ]
     },
     "metadata": {},
     "output_type": "display_data"
    }
   ],
   "source": [
    "ax_2 = sns.boxplot(data= df_res_p,palette=\"PRGn\")"
   ]
  },
  {
   "cell_type": "code",
   "execution_count": null,
   "metadata": {
    "collapsed": true
   },
   "outputs": [],
   "source": []
  }
 ],
 "metadata": {
  "kernelspec": {
   "display_name": "Python 3",
   "language": "python",
   "name": "python3"
  },
  "language_info": {
   "codemirror_mode": {
    "name": "ipython",
    "version": 3
   },
   "file_extension": ".py",
   "mimetype": "text/x-python",
   "name": "python",
   "nbconvert_exporter": "python",
   "pygments_lexer": "ipython3",
   "version": "3.6.0"
  }
 },
 "nbformat": 4,
 "nbformat_minor": 2
}
