{
 "cells": [
  {
   "cell_type": "markdown",
   "metadata": {},
   "source": [
    "### NLTK classifer test"
   ]
  },
  {
   "cell_type": "code",
   "execution_count": 1,
   "metadata": {
    "collapsed": true
   },
   "outputs": [],
   "source": [
    "from nltk.corpus import names"
   ]
  },
  {
   "cell_type": "code",
   "execution_count": 2,
   "metadata": {
    "collapsed": true
   },
   "outputs": [],
   "source": [
    "import random"
   ]
  },
  {
   "cell_type": "code",
   "execution_count": 3,
   "metadata": {
    "collapsed": true
   },
   "outputs": [],
   "source": [
    "names = ([(name, 'male') for name in names.words('male.txt')] + [(name, 'female') for name in names.words('female.txt')])"
   ]
  },
  {
   "cell_type": "code",
   "execution_count": 4,
   "metadata": {
    "collapsed": true
   },
   "outputs": [],
   "source": [
    "random.shuffle(names)"
   ]
  },
  {
   "cell_type": "code",
   "execution_count": 5,
   "metadata": {
    "collapsed": false
   },
   "outputs": [
    {
     "data": {
      "text/plain": [
       "7944"
      ]
     },
     "execution_count": 5,
     "metadata": {},
     "output_type": "execute_result"
    }
   ],
   "source": [
    "len(names)"
   ]
  },
  {
   "cell_type": "code",
   "execution_count": 6,
   "metadata": {
    "collapsed": false
   },
   "outputs": [
    {
     "data": {
      "text/plain": [
       "[('Melli', 'female'),\n",
       " ('Hanson', 'male'),\n",
       " ('Hettie', 'female'),\n",
       " ('Zared', 'male'),\n",
       " ('Herrmann', 'male'),\n",
       " ('Mahala', 'female'),\n",
       " ('Finn', 'male'),\n",
       " ('Luisa', 'female'),\n",
       " ('Caressa', 'female'),\n",
       " ('Fleur', 'female')]"
      ]
     },
     "execution_count": 6,
     "metadata": {},
     "output_type": "execute_result"
    }
   ],
   "source": [
    "names[0:10]"
   ]
  },
  {
   "cell_type": "code",
   "execution_count": 8,
   "metadata": {
    "collapsed": true
   },
   "outputs": [],
   "source": [
    "def gender_features(word):\n",
    "   ...:     return {'last_letter': word[-1]}"
   ]
  },
  {
   "cell_type": "code",
   "execution_count": 9,
   "metadata": {
    "collapsed": false
   },
   "outputs": [
    {
     "data": {
      "text/plain": [
       "{'last_letter': 'y'}"
      ]
     },
     "execution_count": 9,
     "metadata": {},
     "output_type": "execute_result"
    }
   ],
   "source": [
    "gender_features('Gary')"
   ]
  },
  {
   "cell_type": "code",
   "execution_count": 10,
   "metadata": {
    "collapsed": true
   },
   "outputs": [],
   "source": [
    "featuresets = [(gender_features(n), g) for (n, g) in names]"
   ]
  },
  {
   "cell_type": "code",
   "execution_count": 11,
   "metadata": {
    "collapsed": false
   },
   "outputs": [
    {
     "data": {
      "text/plain": [
       "7944"
      ]
     },
     "execution_count": 11,
     "metadata": {},
     "output_type": "execute_result"
    }
   ],
   "source": [
    "len(featuresets)"
   ]
  },
  {
   "cell_type": "code",
   "execution_count": 12,
   "metadata": {
    "collapsed": false
   },
   "outputs": [
    {
     "data": {
      "text/plain": [
       "[({'last_letter': 'i'}, 'female'),\n",
       " ({'last_letter': 'n'}, 'male'),\n",
       " ({'last_letter': 'e'}, 'female'),\n",
       " ({'last_letter': 'd'}, 'male'),\n",
       " ({'last_letter': 'n'}, 'male'),\n",
       " ({'last_letter': 'a'}, 'female'),\n",
       " ({'last_letter': 'n'}, 'male'),\n",
       " ({'last_letter': 'a'}, 'female'),\n",
       " ({'last_letter': 'a'}, 'female'),\n",
       " ({'last_letter': 'r'}, 'female')]"
      ]
     },
     "execution_count": 12,
     "metadata": {},
     "output_type": "execute_result"
    }
   ],
   "source": [
    "featuresets[0:10]"
   ]
  },
  {
   "cell_type": "code",
   "execution_count": 13,
   "metadata": {
    "collapsed": true
   },
   "outputs": [],
   "source": [
    "train_set, test_set = featuresets[500:], featuresets[:500]"
   ]
  },
  {
   "cell_type": "code",
   "execution_count": 14,
   "metadata": {
    "collapsed": false
   },
   "outputs": [
    {
     "data": {
      "text/plain": [
       "7444"
      ]
     },
     "execution_count": 14,
     "metadata": {},
     "output_type": "execute_result"
    }
   ],
   "source": [
    "len(train_set)"
   ]
  },
  {
   "cell_type": "code",
   "execution_count": 15,
   "metadata": {
    "collapsed": false
   },
   "outputs": [
    {
     "data": {
      "text/plain": [
       "500"
      ]
     },
     "execution_count": 15,
     "metadata": {},
     "output_type": "execute_result"
    }
   ],
   "source": [
    "len(test_set)"
   ]
  },
  {
   "cell_type": "code",
   "execution_count": 16,
   "metadata": {
    "collapsed": true
   },
   "outputs": [],
   "source": [
    "from nltk import NaiveBayesClassifier"
   ]
  },
  {
   "cell_type": "code",
   "execution_count": 17,
   "metadata": {
    "collapsed": true
   },
   "outputs": [],
   "source": [
    "nb_classifier = NaiveBayesClassifier.train(train_set)"
   ]
  },
  {
   "cell_type": "code",
   "execution_count": 18,
   "metadata": {
    "collapsed": false
   },
   "outputs": [
    {
     "data": {
      "text/plain": [
       "'female'"
      ]
     },
     "execution_count": 18,
     "metadata": {},
     "output_type": "execute_result"
    }
   ],
   "source": [
    "nb_classifier.classify(gender_features('Gary'))"
   ]
  },
  {
   "cell_type": "code",
   "execution_count": 19,
   "metadata": {
    "collapsed": false
   },
   "outputs": [
    {
     "data": {
      "text/plain": [
       "'female'"
      ]
     },
     "execution_count": 19,
     "metadata": {},
     "output_type": "execute_result"
    }
   ],
   "source": [
    "nb_classifier.classify(gender_features('Grace'))"
   ]
  },
  {
   "cell_type": "code",
   "execution_count": 20,
   "metadata": {
    "collapsed": true
   },
   "outputs": [],
   "source": [
    "from nltk import classify"
   ]
  },
  {
   "cell_type": "code",
   "execution_count": 21,
   "metadata": {
    "collapsed": false
   },
   "outputs": [
    {
     "data": {
      "text/plain": [
       "0.79"
      ]
     },
     "execution_count": 21,
     "metadata": {},
     "output_type": "execute_result"
    }
   ],
   "source": [
    "classify.accuracy(nb_classifier, test_set)"
   ]
  },
  {
   "cell_type": "code",
   "execution_count": 22,
   "metadata": {
    "collapsed": false
   },
   "outputs": [
    {
     "name": "stdout",
     "output_type": "stream",
     "text": [
      "Most Informative Features\n",
      "             last_letter = 'a'            female : male   =     33.5 : 1.0\n",
      "             last_letter = 'k'              male : female =     30.5 : 1.0\n",
      "             last_letter = 'f'              male : female =     15.1 : 1.0\n",
      "             last_letter = 'p'              male : female =     11.1 : 1.0\n",
      "             last_letter = 'v'              male : female =     10.4 : 1.0\n"
     ]
    }
   ],
   "source": [
    "nb_classifier.show_most_informative_features(5)"
   ]
  },
  {
   "cell_type": "code",
   "execution_count": 23,
   "metadata": {
    "collapsed": true
   },
   "outputs": [],
   "source": [
    "from nltk import MaxentClassifier"
   ]
  },
  {
   "cell_type": "code",
   "execution_count": 24,
   "metadata": {
    "collapsed": false
   },
   "outputs": [
    {
     "name": "stdout",
     "output_type": "stream",
     "text": [
      "  ==> Training (100 iterations)\n",
      "\n",
      "      Iteration    Log Likelihood    Accuracy\n",
      "      ---------------------------------------\n",
      "             1          -0.69315        0.372\n",
      "             2          -0.37619        0.761\n",
      "             3          -0.37576        0.761\n",
      "             4          -0.37551        0.761\n",
      "             5          -0.37534        0.761\n",
      "             6          -0.37522        0.761\n",
      "             7          -0.37513        0.761\n",
      "             8          -0.37506        0.761\n",
      "             9          -0.37500        0.761\n",
      "            10          -0.37496        0.761\n",
      "            11          -0.37492        0.761\n",
      "            12          -0.37488        0.761\n",
      "            13          -0.37486        0.761\n",
      "            14          -0.37483        0.761\n",
      "            15          -0.37481        0.761\n",
      "            16          -0.37479        0.761\n",
      "            17          -0.37478        0.761\n",
      "            18          -0.37476        0.761\n",
      "            19          -0.37475        0.761\n",
      "            20          -0.37474        0.761\n",
      "            21          -0.37472        0.761\n",
      "            22          -0.37471        0.761\n",
      "            23          -0.37471        0.761\n",
      "            24          -0.37470        0.761\n",
      "            25          -0.37469        0.761\n",
      "            26          -0.37468        0.761\n",
      "            27          -0.37468        0.761\n",
      "            28          -0.37467        0.761\n",
      "            29          -0.37466        0.761\n",
      "            30          -0.37466        0.761\n",
      "            31          -0.37465        0.761\n",
      "            32          -0.37465        0.761\n",
      "            33          -0.37464        0.761\n",
      "            34          -0.37464        0.761\n",
      "            35          -0.37463        0.761\n",
      "            36          -0.37463        0.761\n",
      "            37          -0.37463        0.761\n",
      "            38          -0.37462        0.761\n",
      "            39          -0.37462        0.761\n",
      "            40          -0.37462        0.761\n",
      "            41          -0.37461        0.761\n",
      "            42          -0.37461        0.761\n",
      "            43          -0.37461        0.761\n",
      "            44          -0.37461        0.761\n",
      "            45          -0.37460        0.761\n",
      "            46          -0.37460        0.761\n",
      "            47          -0.37460        0.761\n",
      "            48          -0.37460        0.761\n",
      "            49          -0.37460        0.761\n",
      "            50          -0.37459        0.761\n",
      "            51          -0.37459        0.761\n",
      "            52          -0.37459        0.761\n",
      "            53          -0.37459        0.761\n",
      "            54          -0.37459        0.761\n",
      "            55          -0.37458        0.761\n",
      "            56          -0.37458        0.761\n",
      "            57          -0.37458        0.761\n",
      "            58          -0.37458        0.761\n",
      "            59          -0.37458        0.761\n",
      "            60          -0.37458        0.761\n",
      "            61          -0.37458        0.761\n",
      "            62          -0.37457        0.761\n",
      "            63          -0.37457        0.761\n",
      "            64          -0.37457        0.761\n",
      "            65          -0.37457        0.761\n",
      "            66          -0.37457        0.761\n",
      "            67          -0.37457        0.761\n",
      "            68          -0.37457        0.761\n",
      "            69          -0.37457        0.761\n",
      "            70          -0.37457        0.761\n",
      "            71          -0.37456        0.761\n",
      "            72          -0.37456        0.761\n",
      "            73          -0.37456        0.761\n",
      "            74          -0.37456        0.761\n",
      "            75          -0.37456        0.761\n",
      "            76          -0.37456        0.761\n",
      "            77          -0.37456        0.761\n",
      "            78          -0.37456        0.761\n",
      "            79          -0.37456        0.761\n",
      "            80          -0.37456        0.761\n",
      "            81          -0.37456        0.761\n",
      "            82          -0.37455        0.761\n",
      "            83          -0.37455        0.761\n",
      "            84          -0.37455        0.761\n",
      "            85          -0.37455        0.761\n",
      "            86          -0.37455        0.761\n",
      "            87          -0.37455        0.761\n",
      "            88          -0.37455        0.761\n",
      "            89          -0.37455        0.761\n",
      "            90          -0.37455        0.761\n",
      "            91          -0.37455        0.761\n",
      "            92          -0.37455        0.761\n",
      "            93          -0.37455        0.761\n",
      "            94          -0.37455        0.761\n",
      "            95          -0.37455        0.761\n",
      "            96          -0.37455        0.761\n",
      "            97          -0.37455        0.761\n",
      "            98          -0.37455        0.761\n",
      "            99          -0.37454        0.761\n",
      "         Final          -0.37454        0.761\n"
     ]
    }
   ],
   "source": [
    "me_classifier = MaxentClassifier.train(train_set)"
   ]
  },
  {
   "cell_type": "code",
   "execution_count": 25,
   "metadata": {
    "collapsed": false
   },
   "outputs": [
    {
     "data": {
      "text/plain": [
       "'female'"
      ]
     },
     "execution_count": 25,
     "metadata": {},
     "output_type": "execute_result"
    }
   ],
   "source": [
    "me_classifier.classify(gender_features('Gary'))"
   ]
  },
  {
   "cell_type": "code",
   "execution_count": 26,
   "metadata": {
    "collapsed": false
   },
   "outputs": [
    {
     "data": {
      "text/plain": [
       "'female'"
      ]
     },
     "execution_count": 26,
     "metadata": {},
     "output_type": "execute_result"
    }
   ],
   "source": [
    "me_classifier.classify(gender_features('Grace'))"
   ]
  },
  {
   "cell_type": "code",
   "execution_count": 27,
   "metadata": {
    "collapsed": false
   },
   "outputs": [
    {
     "data": {
      "text/plain": [
       "0.79"
      ]
     },
     "execution_count": 27,
     "metadata": {},
     "output_type": "execute_result"
    }
   ],
   "source": [
    "classify.accuracy(me_classifier, test_set)"
   ]
  },
  {
   "cell_type": "code",
   "execution_count": 28,
   "metadata": {
    "collapsed": false
   },
   "outputs": [
    {
     "name": "stdout",
     "output_type": "stream",
     "text": [
      "   6.644 last_letter==' ' and label is 'female'\n",
      "   6.644 last_letter=='c' and label is 'male'\n",
      "  -4.867 last_letter=='a' and label is 'male'\n",
      "  -3.459 last_letter=='k' and label is 'female'\n",
      "  -2.585 last_letter=='f' and label is 'female'\n"
     ]
    }
   ],
   "source": [
    "me_classifier.show_most_informative_features(5)"
   ]
  },
  {
   "cell_type": "code",
   "execution_count": 29,
   "metadata": {
    "collapsed": true
   },
   "outputs": [],
   "source": [
    "def gender_features2(name):\n",
    "   ....:     features = {}\n",
    "   ....:     features[\"firstletter\"] = name[0].lower()\n",
    "   ....:     features[\"lastletter\"] = name[-1].lower()\n",
    "   ....:     for letter in 'abcdefghijklmnopqrstuvwxyz':\n",
    "   ....:         features[\"count(%s)\" % letter] = name.lower().count(letter)\n",
    "   ....:         features[\"has(%s)\" % letter] = (letter in name.lower())\n",
    "   ....:     return features"
   ]
  },
  {
   "cell_type": "code",
   "execution_count": 30,
   "metadata": {
    "collapsed": false
   },
   "outputs": [
    {
     "data": {
      "text/plain": [
       "{'count(a)': 1,\n",
       " 'count(b)': 0,\n",
       " 'count(c)': 0,\n",
       " 'count(d)': 0,\n",
       " 'count(e)': 0,\n",
       " 'count(f)': 0,\n",
       " 'count(g)': 1,\n",
       " 'count(h)': 0,\n",
       " 'count(i)': 0,\n",
       " 'count(j)': 0,\n",
       " 'count(k)': 0,\n",
       " 'count(l)': 0,\n",
       " 'count(m)': 0,\n",
       " 'count(n)': 0,\n",
       " 'count(o)': 0,\n",
       " 'count(p)': 0,\n",
       " 'count(q)': 0,\n",
       " 'count(r)': 1,\n",
       " 'count(s)': 0,\n",
       " 'count(t)': 0,\n",
       " 'count(u)': 0,\n",
       " 'count(v)': 0,\n",
       " 'count(w)': 0,\n",
       " 'count(x)': 0,\n",
       " 'count(y)': 1,\n",
       " 'count(z)': 0,\n",
       " 'firstletter': 'g',\n",
       " 'has(a)': True,\n",
       " 'has(b)': False,\n",
       " 'has(c)': False,\n",
       " 'has(d)': False,\n",
       " 'has(e)': False,\n",
       " 'has(f)': False,\n",
       " 'has(g)': True,\n",
       " 'has(h)': False,\n",
       " 'has(i)': False,\n",
       " 'has(j)': False,\n",
       " 'has(k)': False,\n",
       " 'has(l)': False,\n",
       " 'has(m)': False,\n",
       " 'has(n)': False,\n",
       " 'has(o)': False,\n",
       " 'has(p)': False,\n",
       " 'has(q)': False,\n",
       " 'has(r)': True,\n",
       " 'has(s)': False,\n",
       " 'has(t)': False,\n",
       " 'has(u)': False,\n",
       " 'has(v)': False,\n",
       " 'has(w)': False,\n",
       " 'has(x)': False,\n",
       " 'has(y)': True,\n",
       " 'has(z)': False,\n",
       " 'lastletter': 'y'}"
      ]
     },
     "execution_count": 30,
     "metadata": {},
     "output_type": "execute_result"
    }
   ],
   "source": [
    "gender_features2('Gary')"
   ]
  },
  {
   "cell_type": "code",
   "execution_count": 31,
   "metadata": {
    "collapsed": true
   },
   "outputs": [],
   "source": [
    "featuresets = [(gender_features2(n), g) for (n, g) in names]"
   ]
  },
  {
   "cell_type": "code",
   "execution_count": 32,
   "metadata": {
    "collapsed": true
   },
   "outputs": [],
   "source": [
    "train_set, test_set = featuresets[500:], featuresets[:500]"
   ]
  },
  {
   "cell_type": "code",
   "execution_count": 33,
   "metadata": {
    "collapsed": true
   },
   "outputs": [],
   "source": [
    "nb2_classifier = NaiveBayesClassifier.train(train_set)"
   ]
  },
  {
   "cell_type": "code",
   "execution_count": 34,
   "metadata": {
    "collapsed": false
   },
   "outputs": [
    {
     "data": {
      "text/plain": [
       "0.788"
      ]
     },
     "execution_count": 34,
     "metadata": {},
     "output_type": "execute_result"
    }
   ],
   "source": [
    "classify.accuracy(nb2_classifier, test_set)"
   ]
  },
  {
   "cell_type": "code",
   "execution_count": null,
   "metadata": {
    "collapsed": false
   },
   "outputs": [
    {
     "name": "stdout",
     "output_type": "stream",
     "text": [
      "  ==> Training (100 iterations)\n",
      "\n",
      "      Iteration    Log Likelihood    Accuracy\n",
      "      ---------------------------------------\n",
      "             1          -0.69315        0.372\n",
      "             2          -0.61353        0.628\n",
      "             3          -0.59943        0.628\n",
      "             4          -0.58616        0.629\n",
      "             5          -0.57367        0.635\n",
      "             6          -0.56195        0.654\n",
      "             7          -0.55095        0.672\n",
      "             8          -0.54064        0.690\n",
      "             9          -0.53096        0.706\n",
      "            10          -0.52188        0.715\n",
      "            11          -0.51335        0.727\n",
      "            12          -0.50534        0.737\n",
      "            13          -0.49781        0.743\n",
      "            14          -0.49072        0.749\n",
      "            15          -0.48403        0.754\n",
      "            16          -0.47773        0.759\n",
      "            17          -0.47177        0.760\n",
      "            18          -0.46615        0.764\n",
      "            19          -0.46082        0.767\n",
      "            20          -0.45578        0.769\n",
      "            21          -0.45099        0.771\n",
      "            22          -0.44645        0.772\n",
      "            23          -0.44213        0.775\n",
      "            24          -0.43803        0.778\n",
      "            25          -0.43412        0.780\n",
      "            26          -0.43040        0.781\n",
      "            27          -0.42685        0.782\n",
      "            28          -0.42346        0.782\n",
      "            29          -0.42022        0.785\n",
      "            30          -0.41712        0.786\n",
      "            31          -0.41416        0.786\n",
      "            32          -0.41132        0.787\n",
      "            33          -0.40861        0.789\n",
      "            34          -0.40600        0.789\n",
      "            35          -0.40350        0.790\n",
      "            36          -0.40110        0.790\n"
     ]
    }
   ],
   "source": [
    "me2_classifier = MaxentClassifier.train(train_set)"
   ]
  },
  {
   "cell_type": "code",
   "execution_count": null,
   "metadata": {
    "collapsed": true
   },
   "outputs": [],
   "source": [
    "classify.accuracy(me2_classifier, test_set)"
   ]
  },
  {
   "cell_type": "code",
   "execution_count": null,
   "metadata": {
    "collapsed": true
   },
   "outputs": [],
   "source": [
    "def gender_features3(name):\n",
    "    features = {}\n",
    "    features[\"fl\"] = name[0].lower()\n",
    "    features[\"ll\"] = name[-1].lower()\n",
    "    features[\"fw\"] = name[:2].lower()\n",
    "    features[\"lw\"] = name[-2:].lower()\n",
    "    return features"
   ]
  },
  {
   "cell_type": "code",
   "execution_count": null,
   "metadata": {
    "collapsed": true
   },
   "outputs": [],
   "source": [
    "gender_features3('Gary')"
   ]
  },
  {
   "cell_type": "code",
   "execution_count": null,
   "metadata": {
    "collapsed": true
   },
   "outputs": [],
   "source": [
    "gender_features3('G')"
   ]
  },
  {
   "cell_type": "code",
   "execution_count": null,
   "metadata": {
    "collapsed": true
   },
   "outputs": [],
   "source": [
    "gender_features3('Gary')"
   ]
  },
  {
   "cell_type": "code",
   "execution_count": null,
   "metadata": {
    "collapsed": true
   },
   "outputs": [],
   "source": [
    "featuresets = [(gender_features3(n), g) for (n, g) in names]"
   ]
  },
  {
   "cell_type": "code",
   "execution_count": null,
   "metadata": {
    "collapsed": true
   },
   "outputs": [],
   "source": [
    "featuresets[0]"
   ]
  },
  {
   "cell_type": "code",
   "execution_count": null,
   "metadata": {
    "collapsed": true
   },
   "outputs": [],
   "source": [
    "len(featuresets)"
   ]
  },
  {
   "cell_type": "code",
   "execution_count": null,
   "metadata": {
    "collapsed": true
   },
   "outputs": [],
   "source": [
    "train_set, test_set = featuresets[500:], featuresets[:500]"
   ]
  },
  {
   "cell_type": "code",
   "execution_count": null,
   "metadata": {
    "collapsed": true
   },
   "outputs": [],
   "source": [
    "nb3_classifier = NaiveBayesClassifier.train(train_set)"
   ]
  },
  {
   "cell_type": "code",
   "execution_count": null,
   "metadata": {
    "collapsed": true
   },
   "outputs": [],
   "source": [
    "classify.accuracy(nb3_classifier, test_set)"
   ]
  },
  {
   "cell_type": "code",
   "execution_count": null,
   "metadata": {
    "collapsed": true
   },
   "outputs": [],
   "source": [
    "me3_classifier = MaxentClassifier.train(train_set)"
   ]
  },
  {
   "cell_type": "code",
   "execution_count": null,
   "metadata": {
    "collapsed": true
   },
   "outputs": [],
   "source": [
    "classify.accuracy(me3_classifier, test_set)"
   ]
  },
  {
   "cell_type": "code",
   "execution_count": null,
   "metadata": {
    "collapsed": true
   },
   "outputs": [],
   "source": []
  }
 ],
 "metadata": {
  "kernelspec": {
   "display_name": "Python 3",
   "language": "python",
   "name": "python3"
  },
  "language_info": {
   "codemirror_mode": {
    "name": "ipython",
    "version": 3
   },
   "file_extension": ".py",
   "mimetype": "text/x-python",
   "name": "python",
   "nbconvert_exporter": "python",
   "pygments_lexer": "ipython3",
   "version": "3.6.0"
  }
 },
 "nbformat": 4,
 "nbformat_minor": 2
}
