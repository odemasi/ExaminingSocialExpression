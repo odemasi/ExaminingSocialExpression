{
 "cells": [
  {
   "cell_type": "markdown",
   "metadata": {},
   "source": [
    "### NLTK classifer test"
   ]
  },
  {
   "cell_type": "code",
   "execution_count": 5,
   "metadata": {
    "collapsed": true
   },
   "outputs": [],
   "source": [
    "from nltk.corpus import names"
   ]
  },
  {
   "cell_type": "code",
   "execution_count": 6,
   "metadata": {
    "collapsed": true
   },
   "outputs": [],
   "source": [
    "import random"
   ]
  },
  {
   "cell_type": "code",
   "execution_count": 7,
   "metadata": {
    "collapsed": true
   },
   "outputs": [],
   "source": [
    "names = ([(name, 'male') for name in names.words('male.txt')] + [(name, 'female') for name in names.words('female.txt')])"
   ]
  },
  {
   "cell_type": "code",
   "execution_count": 8,
   "metadata": {
    "collapsed": true
   },
   "outputs": [],
   "source": [
    "random.shuffle(names)"
   ]
  },
  {
   "cell_type": "code",
   "execution_count": 9,
   "metadata": {
    "collapsed": false
   },
   "outputs": [
    {
     "data": {
      "text/plain": [
       "7944"
      ]
     },
     "execution_count": 9,
     "metadata": {},
     "output_type": "execute_result"
    }
   ],
   "source": [
    "len(names)"
   ]
  },
  {
   "cell_type": "code",
   "execution_count": 10,
   "metadata": {
    "collapsed": false
   },
   "outputs": [
    {
     "data": {
      "text/plain": [
       "[('Damian', 'male'),\n",
       " ('Jacquette', 'female'),\n",
       " ('Maggee', 'female'),\n",
       " ('Ruby', 'male'),\n",
       " ('Rudy', 'male'),\n",
       " ('Sheri', 'female'),\n",
       " ('Amabel', 'female'),\n",
       " ('Lona', 'female'),\n",
       " ('Gena', 'female'),\n",
       " ('Brande', 'female')]"
      ]
     },
     "execution_count": 10,
     "metadata": {},
     "output_type": "execute_result"
    }
   ],
   "source": [
    "names[0:10]"
   ]
  },
  {
   "cell_type": "code",
   "execution_count": 11,
   "metadata": {
    "collapsed": true
   },
   "outputs": [],
   "source": [
    "def gender_features(word):\n",
    "   ...:     return {'last_letter': word[-1]}"
   ]
  },
  {
   "cell_type": "code",
   "execution_count": 12,
   "metadata": {
    "collapsed": false
   },
   "outputs": [
    {
     "data": {
      "text/plain": [
       "{'last_letter': 'y'}"
      ]
     },
     "execution_count": 12,
     "metadata": {},
     "output_type": "execute_result"
    }
   ],
   "source": [
    "gender_features('Gary')"
   ]
  },
  {
   "cell_type": "code",
   "execution_count": 13,
   "metadata": {
    "collapsed": true
   },
   "outputs": [],
   "source": [
    "featuresets = [(gender_features(n), g) for (n, g) in names]"
   ]
  },
  {
   "cell_type": "code",
   "execution_count": 14,
   "metadata": {
    "collapsed": false
   },
   "outputs": [
    {
     "data": {
      "text/plain": [
       "7944"
      ]
     },
     "execution_count": 14,
     "metadata": {},
     "output_type": "execute_result"
    }
   ],
   "source": [
    "len(featuresets)"
   ]
  },
  {
   "cell_type": "code",
   "execution_count": 15,
   "metadata": {
    "collapsed": false
   },
   "outputs": [
    {
     "data": {
      "text/plain": [
       "[({'last_letter': 'n'}, 'male'),\n",
       " ({'last_letter': 'e'}, 'female'),\n",
       " ({'last_letter': 'e'}, 'female'),\n",
       " ({'last_letter': 'y'}, 'male'),\n",
       " ({'last_letter': 'y'}, 'male'),\n",
       " ({'last_letter': 'i'}, 'female'),\n",
       " ({'last_letter': 'l'}, 'female'),\n",
       " ({'last_letter': 'a'}, 'female'),\n",
       " ({'last_letter': 'a'}, 'female'),\n",
       " ({'last_letter': 'e'}, 'female')]"
      ]
     },
     "execution_count": 15,
     "metadata": {},
     "output_type": "execute_result"
    }
   ],
   "source": [
    "featuresets[0:10]"
   ]
  },
  {
   "cell_type": "code",
   "execution_count": 16,
   "metadata": {
    "collapsed": true
   },
   "outputs": [],
   "source": [
    "train_set, test_set = featuresets[500:], featuresets[:500]"
   ]
  },
  {
   "cell_type": "code",
   "execution_count": 17,
   "metadata": {
    "collapsed": false
   },
   "outputs": [
    {
     "data": {
      "text/plain": [
       "7444"
      ]
     },
     "execution_count": 17,
     "metadata": {},
     "output_type": "execute_result"
    }
   ],
   "source": [
    "len(train_set)"
   ]
  },
  {
   "cell_type": "code",
   "execution_count": 18,
   "metadata": {
    "collapsed": false
   },
   "outputs": [
    {
     "data": {
      "text/plain": [
       "500"
      ]
     },
     "execution_count": 18,
     "metadata": {},
     "output_type": "execute_result"
    }
   ],
   "source": [
    "len(test_set)"
   ]
  },
  {
   "cell_type": "code",
   "execution_count": 19,
   "metadata": {
    "collapsed": true
   },
   "outputs": [],
   "source": [
    "from nltk import NaiveBayesClassifier"
   ]
  },
  {
   "cell_type": "code",
   "execution_count": 20,
   "metadata": {
    "collapsed": true
   },
   "outputs": [],
   "source": [
    "nb_classifier = NaiveBayesClassifier.train(train_set)"
   ]
  },
  {
   "cell_type": "code",
   "execution_count": 21,
   "metadata": {
    "collapsed": false
   },
   "outputs": [
    {
     "data": {
      "text/plain": [
       "'female'"
      ]
     },
     "execution_count": 21,
     "metadata": {},
     "output_type": "execute_result"
    }
   ],
   "source": [
    "nb_classifier.classify(gender_features('Gary'))"
   ]
  },
  {
   "cell_type": "code",
   "execution_count": 22,
   "metadata": {
    "collapsed": false
   },
   "outputs": [
    {
     "data": {
      "text/plain": [
       "'female'"
      ]
     },
     "execution_count": 22,
     "metadata": {},
     "output_type": "execute_result"
    }
   ],
   "source": [
    "nb_classifier.classify(gender_features('Grace'))"
   ]
  },
  {
   "cell_type": "code",
   "execution_count": 23,
   "metadata": {
    "collapsed": true
   },
   "outputs": [],
   "source": [
    "from nltk import classify"
   ]
  },
  {
   "cell_type": "code",
   "execution_count": 24,
   "metadata": {
    "collapsed": false
   },
   "outputs": [
    {
     "data": {
      "text/plain": [
       "0.728"
      ]
     },
     "execution_count": 24,
     "metadata": {},
     "output_type": "execute_result"
    }
   ],
   "source": [
    "classify.accuracy(nb_classifier, test_set)"
   ]
  },
  {
   "cell_type": "code",
   "execution_count": 25,
   "metadata": {
    "collapsed": false
   },
   "outputs": [
    {
     "name": "stdout",
     "output_type": "stream",
     "text": [
      "Most Informative Features\n",
      "             last_letter = 'a'            female : male   =     34.3 : 1.0\n",
      "             last_letter = 'f'              male : female =     16.7 : 1.0\n",
      "             last_letter = 'p'              male : female =     11.9 : 1.0\n",
      "             last_letter = 'v'              male : female =     11.3 : 1.0\n",
      "             last_letter = 'd'              male : female =     10.0 : 1.0\n"
     ]
    }
   ],
   "source": [
    "nb_classifier.show_most_informative_features(5)"
   ]
  },
  {
   "cell_type": "code",
   "execution_count": 26,
   "metadata": {
    "collapsed": true
   },
   "outputs": [],
   "source": [
    "from nltk import MaxentClassifier"
   ]
  },
  {
   "cell_type": "code",
   "execution_count": 27,
   "metadata": {
    "collapsed": false
   },
   "outputs": [
    {
     "name": "stdout",
     "output_type": "stream",
     "text": [
      "  ==> Training (100 iterations)\n",
      "\n",
      "      Iteration    Log Likelihood    Accuracy\n",
      "      ---------------------------------------\n",
      "             1          -0.69315        0.369\n",
      "             2          -0.37441        0.765\n",
      "             3          -0.37295        0.765\n",
      "             4          -0.37207        0.765\n",
      "             5          -0.37149        0.765\n",
      "             6          -0.37107        0.765\n",
      "             7          -0.37076        0.765\n",
      "             8          -0.37051        0.765\n",
      "             9          -0.37032        0.765\n",
      "            10          -0.37016        0.765\n",
      "            11          -0.37003        0.765\n",
      "            12          -0.36992        0.765\n",
      "            13          -0.36982        0.765\n",
      "            14          -0.36974        0.765\n",
      "            15          -0.36966        0.765\n",
      "            16          -0.36960        0.765\n",
      "            17          -0.36954        0.765\n",
      "            18          -0.36949        0.765\n",
      "            19          -0.36944        0.765\n",
      "            20          -0.36940        0.765\n",
      "            21          -0.36937        0.765\n",
      "            22          -0.36933        0.765\n",
      "            23          -0.36930        0.765\n",
      "            24          -0.36927        0.765\n",
      "            25          -0.36924        0.765\n",
      "            26          -0.36922        0.765\n",
      "            27          -0.36919        0.765\n",
      "            28          -0.36917        0.765\n",
      "            29          -0.36915        0.765\n",
      "            30          -0.36913        0.765\n",
      "            31          -0.36912        0.765\n",
      "            32          -0.36910        0.765\n",
      "            33          -0.36908        0.765\n",
      "            34          -0.36907        0.765\n",
      "            35          -0.36906        0.765\n",
      "            36          -0.36904        0.765\n",
      "            37          -0.36903        0.765\n",
      "            38          -0.36902        0.765\n",
      "            39          -0.36901        0.765\n",
      "            40          -0.36900        0.765\n",
      "            41          -0.36899        0.765\n",
      "            42          -0.36898        0.765\n",
      "            43          -0.36897        0.765\n",
      "            44          -0.36896        0.765\n",
      "            45          -0.36895        0.765\n",
      "            46          -0.36894        0.765\n",
      "            47          -0.36893        0.765\n",
      "            48          -0.36893        0.765\n",
      "            49          -0.36892        0.765\n",
      "            50          -0.36891        0.765\n",
      "            51          -0.36891        0.765\n",
      "            52          -0.36890        0.765\n",
      "            53          -0.36889        0.765\n",
      "            54          -0.36889        0.765\n",
      "            55          -0.36888        0.765\n",
      "            56          -0.36888        0.765\n",
      "            57          -0.36887        0.765\n",
      "            58          -0.36887        0.765\n",
      "            59          -0.36886        0.765\n",
      "            60          -0.36886        0.765\n",
      "            61          -0.36885        0.765\n",
      "            62          -0.36885        0.765\n",
      "            63          -0.36884        0.765\n",
      "            64          -0.36884        0.765\n",
      "            65          -0.36884        0.765\n",
      "            66          -0.36883        0.765\n",
      "            67          -0.36883        0.765\n",
      "            68          -0.36882        0.765\n",
      "            69          -0.36882        0.765\n",
      "            70          -0.36882        0.765\n",
      "            71          -0.36881        0.765\n",
      "            72          -0.36881        0.765\n",
      "            73          -0.36881        0.765\n",
      "            74          -0.36880        0.765\n",
      "            75          -0.36880        0.765\n",
      "            76          -0.36880        0.765\n",
      "            77          -0.36879        0.765\n",
      "            78          -0.36879        0.765\n",
      "            79          -0.36879        0.765\n",
      "            80          -0.36879        0.765\n",
      "            81          -0.36878        0.765\n",
      "            82          -0.36878        0.765\n",
      "            83          -0.36878        0.765\n",
      "            84          -0.36878        0.765\n",
      "            85          -0.36877        0.765\n",
      "            86          -0.36877        0.765\n",
      "            87          -0.36877        0.765\n",
      "            88          -0.36877        0.765\n",
      "            89          -0.36876        0.765\n",
      "            90          -0.36876        0.765\n",
      "            91          -0.36876        0.765\n",
      "            92          -0.36876        0.765\n",
      "            93          -0.36876        0.765\n",
      "            94          -0.36875        0.765\n",
      "            95          -0.36875        0.765\n",
      "            96          -0.36875        0.765\n",
      "            97          -0.36875        0.765\n",
      "            98          -0.36875        0.765\n",
      "            99          -0.36875        0.765\n",
      "         Final          -0.36874        0.765\n"
     ]
    }
   ],
   "source": [
    "me_classifier = MaxentClassifier.train(train_set)"
   ]
  },
  {
   "cell_type": "code",
   "execution_count": 28,
   "metadata": {
    "collapsed": false
   },
   "outputs": [
    {
     "data": {
      "text/plain": [
       "'female'"
      ]
     },
     "execution_count": 28,
     "metadata": {},
     "output_type": "execute_result"
    }
   ],
   "source": [
    "me_classifier.classify(gender_features('Gary'))"
   ]
  },
  {
   "cell_type": "code",
   "execution_count": 29,
   "metadata": {
    "collapsed": false
   },
   "outputs": [
    {
     "data": {
      "text/plain": [
       "'female'"
      ]
     },
     "execution_count": 29,
     "metadata": {},
     "output_type": "execute_result"
    }
   ],
   "source": [
    "me_classifier.classify(gender_features('Grace'))"
   ]
  },
  {
   "cell_type": "code",
   "execution_count": 30,
   "metadata": {
    "collapsed": false
   },
   "outputs": [
    {
     "data": {
      "text/plain": [
       "0.728"
      ]
     },
     "execution_count": 30,
     "metadata": {},
     "output_type": "execute_result"
    }
   ],
   "source": [
    "classify.accuracy(me_classifier, test_set)"
   ]
  },
  {
   "cell_type": "code",
   "execution_count": 31,
   "metadata": {
    "collapsed": false
   },
   "outputs": [
    {
     "name": "stdout",
     "output_type": "stream",
     "text": [
      "   6.644 last_letter==' ' and label is 'female'\n",
      "   6.644 last_letter=='c' and label is 'male'\n",
      "   6.644 last_letter=='k' and label is 'male'\n",
      "  -4.918 last_letter=='a' and label is 'male'\n",
      "  -2.700 last_letter=='f' and label is 'female'\n"
     ]
    }
   ],
   "source": [
    "me_classifier.show_most_informative_features(5)"
   ]
  },
  {
   "cell_type": "code",
   "execution_count": 32,
   "metadata": {
    "collapsed": true
   },
   "outputs": [],
   "source": [
    "def gender_features2(name):\n",
    "   ....:     features = {}\n",
    "   ....:     features[\"firstletter\"] = name[0].lower()\n",
    "   ....:     features[\"lastletter\"] = name[-1].lower()\n",
    "   ....:     for letter in 'abcdefghijklmnopqrstuvwxyz':\n",
    "   ....:         features[\"count(%s)\" % letter] = name.lower().count(letter)\n",
    "   ....:         features[\"has(%s)\" % letter] = (letter in name.lower())\n",
    "   ....:     return features"
   ]
  },
  {
   "cell_type": "code",
   "execution_count": 33,
   "metadata": {
    "collapsed": false
   },
   "outputs": [
    {
     "data": {
      "text/plain": [
       "{'count(a)': 1,\n",
       " 'count(b)': 0,\n",
       " 'count(c)': 0,\n",
       " 'count(d)': 0,\n",
       " 'count(e)': 0,\n",
       " 'count(f)': 0,\n",
       " 'count(g)': 1,\n",
       " 'count(h)': 0,\n",
       " 'count(i)': 0,\n",
       " 'count(j)': 0,\n",
       " 'count(k)': 0,\n",
       " 'count(l)': 0,\n",
       " 'count(m)': 0,\n",
       " 'count(n)': 0,\n",
       " 'count(o)': 0,\n",
       " 'count(p)': 0,\n",
       " 'count(q)': 0,\n",
       " 'count(r)': 1,\n",
       " 'count(s)': 0,\n",
       " 'count(t)': 0,\n",
       " 'count(u)': 0,\n",
       " 'count(v)': 0,\n",
       " 'count(w)': 0,\n",
       " 'count(x)': 0,\n",
       " 'count(y)': 1,\n",
       " 'count(z)': 0,\n",
       " 'firstletter': 'g',\n",
       " 'has(a)': True,\n",
       " 'has(b)': False,\n",
       " 'has(c)': False,\n",
       " 'has(d)': False,\n",
       " 'has(e)': False,\n",
       " 'has(f)': False,\n",
       " 'has(g)': True,\n",
       " 'has(h)': False,\n",
       " 'has(i)': False,\n",
       " 'has(j)': False,\n",
       " 'has(k)': False,\n",
       " 'has(l)': False,\n",
       " 'has(m)': False,\n",
       " 'has(n)': False,\n",
       " 'has(o)': False,\n",
       " 'has(p)': False,\n",
       " 'has(q)': False,\n",
       " 'has(r)': True,\n",
       " 'has(s)': False,\n",
       " 'has(t)': False,\n",
       " 'has(u)': False,\n",
       " 'has(v)': False,\n",
       " 'has(w)': False,\n",
       " 'has(x)': False,\n",
       " 'has(y)': True,\n",
       " 'has(z)': False,\n",
       " 'lastletter': 'y'}"
      ]
     },
     "execution_count": 33,
     "metadata": {},
     "output_type": "execute_result"
    }
   ],
   "source": [
    "gender_features2('Gary')"
   ]
  },
  {
   "cell_type": "code",
   "execution_count": 34,
   "metadata": {
    "collapsed": true
   },
   "outputs": [],
   "source": [
    "featuresets = [(gender_features2(n), g) for (n, g) in names]"
   ]
  },
  {
   "cell_type": "code",
   "execution_count": 35,
   "metadata": {
    "collapsed": true
   },
   "outputs": [],
   "source": [
    "train_set, test_set = featuresets[500:], featuresets[:500]"
   ]
  },
  {
   "cell_type": "code",
   "execution_count": 36,
   "metadata": {
    "collapsed": true
   },
   "outputs": [],
   "source": [
    "nb2_classifier = NaiveBayesClassifier.train(train_set)"
   ]
  },
  {
   "cell_type": "code",
   "execution_count": null,
   "metadata": {
    "collapsed": false
   },
   "outputs": [
    {
     "data": {
      "text/plain": [
       "0.778"
      ]
     },
     "execution_count": 37,
     "metadata": {},
     "output_type": "execute_result"
    }
   ],
   "source": [
    "classify.accuracy(nb2_classifier, test_set)"
   ]
  },
  {
   "cell_type": "code",
   "execution_count": null,
   "metadata": {
    "collapsed": false
   },
   "outputs": [
    {
     "name": "stdout",
     "output_type": "stream",
     "text": [
      "  ==> Training (100 iterations)\n",
      "\n",
      "      Iteration    Log Likelihood    Accuracy\n",
      "      ---------------------------------------\n",
      "             1          -0.69315        0.369\n",
      "             2          -0.61092        0.631\n",
      "             3          -0.59718        0.631\n",
      "             4          -0.58423        0.632\n",
      "             5          -0.57203        0.636\n",
      "             6          -0.56057        0.649\n",
      "             7          -0.54980        0.667\n",
      "             8          -0.53969        0.683\n",
      "             9          -0.53019        0.699\n",
      "            10          -0.52127        0.710\n",
      "            11          -0.51288        0.720\n",
      "            12          -0.50498        0.732\n",
      "            13          -0.49755        0.740\n",
      "            14          -0.49055        0.746\n",
      "            15          -0.48394        0.752\n",
      "            16          -0.47770        0.757\n",
      "            17          -0.47180        0.760\n",
      "            18          -0.46622        0.766\n",
      "            19          -0.46093        0.770\n",
      "            20          -0.45592        0.772\n",
      "            21          -0.45115        0.773\n",
      "            22          -0.44663        0.775\n",
      "            23          -0.44233        0.776\n",
      "            24          -0.43823        0.777\n",
      "            25          -0.43433        0.780\n",
      "            26          -0.43060        0.780\n",
      "            27          -0.42705        0.783\n",
      "            28          -0.42365        0.785\n",
      "            29          -0.42040        0.785\n",
      "            30          -0.41730        0.786\n",
      "            31          -0.41432        0.787\n",
      "            32          -0.41147        0.789\n",
      "            33          -0.40874        0.790\n",
      "            34          -0.40611        0.790\n",
      "            35          -0.40359        0.790\n",
      "            36          -0.40117        0.791\n",
      "            37          -0.39884        0.791\n",
      "            38          -0.39660        0.792\n",
      "            39          -0.39445        0.792\n",
      "            40          -0.39237        0.793\n",
      "            41          -0.39037        0.794\n",
      "            42          -0.38844        0.794\n",
      "            43          -0.38658        0.795\n",
      "            44          -0.38479        0.796\n",
      "            45          -0.38305        0.796\n",
      "            46          -0.38138        0.796\n",
      "            47          -0.37976        0.797\n",
      "            48          -0.37820        0.797\n",
      "            49          -0.37668        0.798\n",
      "            50          -0.37522        0.798\n",
      "            51          -0.37380        0.798\n",
      "            52          -0.37243        0.799\n",
      "            53          -0.37110        0.799\n",
      "            54          -0.36981        0.800\n",
      "            55          -0.36856        0.800\n",
      "            56          -0.36734        0.800\n",
      "            57          -0.36617        0.801\n",
      "            58          -0.36503        0.801\n",
      "            59          -0.36392        0.801\n",
      "            60          -0.36284        0.801\n",
      "            61          -0.36179        0.801\n",
      "            62          -0.36078        0.801\n",
      "            63          -0.35979        0.802\n"
     ]
    }
   ],
   "source": [
    "me2_classifier = MaxentClassifier.train(train_set)"
   ]
  },
  {
   "cell_type": "code",
   "execution_count": null,
   "metadata": {
    "collapsed": true
   },
   "outputs": [],
   "source": [
    "classify.accuracy(me2_classifier, test_set)"
   ]
  },
  {
   "cell_type": "code",
   "execution_count": null,
   "metadata": {
    "collapsed": true
   },
   "outputs": [],
   "source": [
    "def gender_features3(name):\n",
    "    features = {}\n",
    "    features[\"fl\"] = name[0].lower()\n",
    "    features[\"ll\"] = name[-1].lower()\n",
    "    features[\"fw\"] = name[:2].lower()\n",
    "    features[\"lw\"] = name[-2:].lower()\n",
    "    return features"
   ]
  },
  {
   "cell_type": "code",
   "execution_count": null,
   "metadata": {
    "collapsed": true
   },
   "outputs": [],
   "source": [
    "gender_features3('Gary')"
   ]
  },
  {
   "cell_type": "code",
   "execution_count": null,
   "metadata": {
    "collapsed": true
   },
   "outputs": [],
   "source": [
    "gender_features3('G')"
   ]
  },
  {
   "cell_type": "code",
   "execution_count": null,
   "metadata": {
    "collapsed": true
   },
   "outputs": [],
   "source": [
    "gender_features3('Gary')"
   ]
  },
  {
   "cell_type": "code",
   "execution_count": null,
   "metadata": {
    "collapsed": true
   },
   "outputs": [],
   "source": [
    "featuresets = [(gender_features3(n), g) for (n, g) in names]"
   ]
  },
  {
   "cell_type": "code",
   "execution_count": null,
   "metadata": {
    "collapsed": true
   },
   "outputs": [],
   "source": [
    "featuresets[0]"
   ]
  },
  {
   "cell_type": "code",
   "execution_count": null,
   "metadata": {
    "collapsed": true
   },
   "outputs": [],
   "source": [
    "len(featuresets)"
   ]
  },
  {
   "cell_type": "code",
   "execution_count": null,
   "metadata": {
    "collapsed": true
   },
   "outputs": [],
   "source": [
    "train_set, test_set = featuresets[500:], featuresets[:500]"
   ]
  },
  {
   "cell_type": "code",
   "execution_count": null,
   "metadata": {
    "collapsed": true
   },
   "outputs": [],
   "source": [
    "nb3_classifier = NaiveBayesClassifier.train(train_set)"
   ]
  },
  {
   "cell_type": "code",
   "execution_count": null,
   "metadata": {
    "collapsed": true
   },
   "outputs": [],
   "source": [
    "classify.accuracy(nb3_classifier, test_set)"
   ]
  },
  {
   "cell_type": "code",
   "execution_count": null,
   "metadata": {
    "collapsed": true
   },
   "outputs": [],
   "source": [
    "me3_classifier = MaxentClassifier.train(train_set)"
   ]
  },
  {
   "cell_type": "code",
   "execution_count": null,
   "metadata": {
    "collapsed": true
   },
   "outputs": [],
   "source": [
    "classify.accuracy(me3_classifier, test_set)"
   ]
  },
  {
   "cell_type": "code",
   "execution_count": null,
   "metadata": {
    "collapsed": true
   },
   "outputs": [],
   "source": []
  }
 ],
 "metadata": {
  "kernelspec": {
   "display_name": "Python 3",
   "language": "python",
   "name": "python3"
  },
  "language_info": {
   "codemirror_mode": {
    "name": "ipython",
    "version": 3
   },
   "file_extension": ".py",
   "mimetype": "text/x-python",
   "name": "python",
   "nbconvert_exporter": "python",
   "pygments_lexer": "ipython3",
   "version": "3.6.0"
  }
 },
 "nbformat": 4,
 "nbformat_minor": 2
}
