{
 "cells": [
  {
   "cell_type": "markdown",
   "metadata": {},
   "source": [
    "# Imports and Loading Files"
   ]
  },
  {
   "cell_type": "code",
   "execution_count": 1,
   "metadata": {
    "collapsed": false
   },
   "outputs": [],
   "source": [
    "import pandas as pd\n",
    "import matplotlib\n",
    "import seaborn as sns\n",
    "import numpy as np"
   ]
  },
  {
   "cell_type": "code",
   "execution_count": 2,
   "metadata": {
    "collapsed": true
   },
   "outputs": [],
   "source": [
    "%matplotlib inline\n",
    "import matplotlib.pyplot as plt"
   ]
  },
  {
   "cell_type": "code",
   "execution_count": 3,
   "metadata": {
    "collapsed": false,
    "scrolled": true
   },
   "outputs": [
    {
     "name": "stderr",
     "output_type": "stream",
     "text": [
      "/Users/danicatanquilut/anaconda3/envs/ds100/lib/python3.5/site-packages/IPython/core/interactiveshell.py:2717: DtypeWarning: Columns (31,33) have mixed types. Specify dtype option on import or set low_memory=False.\n",
      "  interactivity=interactivity, compiler=compiler, result=result)\n"
     ]
    }
   ],
   "source": [
    "posts = pd.read_csv(\"depression_posts_full_corpus_201509.csv\")"
   ]
  },
  {
   "cell_type": "code",
   "execution_count": 4,
   "metadata": {
    "collapsed": false
   },
   "outputs": [],
   "source": [
    "posts = posts[posts['author'] != '[deleted]']"
   ]
  },
  {
   "cell_type": "code",
   "execution_count": 5,
   "metadata": {
    "collapsed": false
   },
   "outputs": [],
   "source": [
    "comments = pd.read_csv(\"Copy of depression_comments_sub201505.csv\")"
   ]
  },
  {
   "cell_type": "markdown",
   "metadata": {},
   "source": [
    "# Joining Posts and Comments"
   ]
  },
  {
   "cell_type": "code",
   "execution_count": 6,
   "metadata": {
    "collapsed": false
   },
   "outputs": [],
   "source": [
    "comments.set_index('link_id', inplace=True)"
   ]
  },
  {
   "cell_type": "code",
   "execution_count": 7,
   "metadata": {
    "collapsed": true
   },
   "outputs": [],
   "source": [
    "posts.set_index('name', inplace=True)"
   ]
  },
  {
   "cell_type": "code",
   "execution_count": 9,
   "metadata": {
    "collapsed": false
   },
   "outputs": [],
   "source": [
    "posts_and_comments = posts.join(comments, how='left', lsuffix=\"_post\", rsuffix=\"_comment\")"
   ]
  },
  {
   "cell_type": "code",
   "execution_count": 10,
   "metadata": {
    "collapsed": true
   },
   "outputs": [],
   "source": [
    "authors_commenting_on_own = posts_and_comments[posts_and_comments['author_post']==posts_and_comments['author_comment']]"
   ]
  },
  {
   "cell_type": "code",
   "execution_count": 11,
   "metadata": {
    "collapsed": false
   },
   "outputs": [],
   "source": [
    "own_by_post = authors_commenting_on_own.groupby('name').count()"
   ]
  },
  {
   "cell_type": "markdown",
   "metadata": {},
   "source": [
    "# Visualizations"
   ]
  },
  {
   "cell_type": "code",
   "execution_count": null,
   "metadata": {
    "collapsed": false,
    "scrolled": false
   },
   "outputs": [],
   "source": [
    "own_by_post.hist('domain', bins = max(own_by_post['domain']))\n",
    "#plt.xlim(0, max(own_by_post['domain']))\n",
    "plt.title(\"Number of Comments on Post by OP\")\n",
    "plt.xlabel(\"Number of Comments\")\n",
    "plt.ylabel(\"Count\")\n",
    "plt.xscale('log')\n",
    "#plt.yscale('log')"
   ]
  },
  {
   "cell_type": "markdown",
   "metadata": {},
   "source": [
    "# Feature Generation"
   ]
  },
  {
   "cell_type": "code",
   "execution_count": 15,
   "metadata": {
    "collapsed": true
   },
   "outputs": [],
   "source": [
    "features_matrix = pd.DataFrame()"
   ]
  },
  {
   "cell_type": "code",
   "execution_count": 16,
   "metadata": {
    "collapsed": false
   },
   "outputs": [],
   "source": [
    "## length of post (characters)\n",
    "num_char_in_post = []\n",
    "for post in posts['selftext']:\n",
    "    if type(post) == float:\n",
    "        num_char_in_post.append(0)\n",
    "    else:\n",
    "        text = post.replace(\" \", \"\")\n",
    "        num_char_in_post.append(len(text))"
   ]
  },
  {
   "cell_type": "code",
   "execution_count": 17,
   "metadata": {
    "collapsed": true
   },
   "outputs": [],
   "source": [
    "## length of post (words)\n",
    "num_words_in_post = []\n",
    "for post in posts['selftext']:\n",
    "    if type(post) == float:\n",
    "        num_words_in_post.append(0)\n",
    "    else:\n",
    "        num_words_in_post.append(len(post.split()))"
   ]
  },
  {
   "cell_type": "code",
   "execution_count": 18,
   "metadata": {
    "collapsed": false
   },
   "outputs": [],
   "source": [
    "## proportion of personal pronouns used\n",
    "personal_pronouns = ['i', 'i\\'d', 'i\\'ll', 'i\\'m', 'i\\'ve',\n",
    "                      'me', 'my','myself']\n",
    "prop_personal_pronouns = []\n",
    "for post in posts['selftext']:\n",
    "    if type(post) == float:\n",
    "        prop_personal_pronouns.append(0)\n",
    "    else:\n",
    "        split_text = post.split()\n",
    "        num_personal = len([i for i in split_text if i in personal_pronouns])\n",
    "        if num_personal == 0:\n",
    "            prop_personal_pronouns.append(0)\n",
    "        else:\n",
    "            prop_personal_pronouns.append(float(len(split_text)/num_personal))"
   ]
  },
  {
   "cell_type": "code",
   "execution_count": 19,
   "metadata": {
    "collapsed": true
   },
   "outputs": [],
   "source": [
    "## is self post // no real way to determine type of media post contains?\n",
    "##tbh this will probably not end up being helpful bc basically all text posts\n",
    "is_selfpost = posts['is_self'].values"
   ]
  },
  {
   "cell_type": "code",
   "execution_count": 20,
   "metadata": {
    "collapsed": false
   },
   "outputs": [],
   "source": [
    "## average word length\n",
    "average_word_length = []\n",
    "for post in posts['selftext']:\n",
    "    if type(post) == float:\n",
    "        average_word_length.append(0)\n",
    "    else:\n",
    "        split_text = post.split()\n",
    "        if len(split_text) == 0:\n",
    "            average_word_length.append(0)\n",
    "        else:\n",
    "            text_lengths = [len(x) for x in split_text]\n",
    "            average_word_length.append(np.mean(text_lengths))"
   ]
  },
  {
   "cell_type": "code",
   "execution_count": 21,
   "metadata": {
    "collapsed": false
   },
   "outputs": [],
   "source": [
    "features_matrix['Length_Char'] = num_char_in_post\n",
    "features_matrix['Length_Words'] = num_words_in_post\n",
    "features_matrix['Avg_Word_Length'] = average_word_length\n",
    "features_matrix['Prop_Personal'] = prop_personal_pronouns\n",
    "features_matrix['Self_Post'] = is_selfpost"
   ]
  },
  {
   "cell_type": "code",
   "execution_count": 29,
   "metadata": {
    "collapsed": false
   },
   "outputs": [
    {
     "data": {
      "text/html": [
       "<div>\n",
       "<table border=\"1\" class=\"dataframe\">\n",
       "  <thead>\n",
       "    <tr style=\"text-align: right;\">\n",
       "      <th></th>\n",
       "      <th>Length_Char</th>\n",
       "      <th>Length_Words</th>\n",
       "      <th>Avg_Word_Length</th>\n",
       "      <th>Prop_Personal</th>\n",
       "      <th>Self_Post</th>\n",
       "    </tr>\n",
       "  </thead>\n",
       "  <tbody>\n",
       "    <tr>\n",
       "      <th>0</th>\n",
       "      <td>757</td>\n",
       "      <td>170</td>\n",
       "      <td>4.441176</td>\n",
       "      <td>24.285714</td>\n",
       "      <td>True</td>\n",
       "    </tr>\n",
       "    <tr>\n",
       "      <th>1</th>\n",
       "      <td>42</td>\n",
       "      <td>13</td>\n",
       "      <td>3.230769</td>\n",
       "      <td>13.000000</td>\n",
       "      <td>True</td>\n",
       "    </tr>\n",
       "    <tr>\n",
       "      <th>2</th>\n",
       "      <td>450</td>\n",
       "      <td>121</td>\n",
       "      <td>3.677686</td>\n",
       "      <td>24.200000</td>\n",
       "      <td>True</td>\n",
       "    </tr>\n",
       "    <tr>\n",
       "      <th>3</th>\n",
       "      <td>840</td>\n",
       "      <td>218</td>\n",
       "      <td>3.853211</td>\n",
       "      <td>9.909091</td>\n",
       "      <td>True</td>\n",
       "    </tr>\n",
       "    <tr>\n",
       "      <th>4</th>\n",
       "      <td>893</td>\n",
       "      <td>218</td>\n",
       "      <td>4.082569</td>\n",
       "      <td>27.250000</td>\n",
       "      <td>True</td>\n",
       "    </tr>\n",
       "    <tr>\n",
       "      <th>5</th>\n",
       "      <td>1526</td>\n",
       "      <td>385</td>\n",
       "      <td>3.911688</td>\n",
       "      <td>64.166667</td>\n",
       "      <td>True</td>\n",
       "    </tr>\n",
       "    <tr>\n",
       "      <th>6</th>\n",
       "      <td>181</td>\n",
       "      <td>46</td>\n",
       "      <td>3.934783</td>\n",
       "      <td>15.333333</td>\n",
       "      <td>True</td>\n",
       "    </tr>\n",
       "    <tr>\n",
       "      <th>7</th>\n",
       "      <td>14</td>\n",
       "      <td>4</td>\n",
       "      <td>3.500000</td>\n",
       "      <td>0.000000</td>\n",
       "      <td>True</td>\n",
       "    </tr>\n",
       "    <tr>\n",
       "      <th>8</th>\n",
       "      <td>545</td>\n",
       "      <td>112</td>\n",
       "      <td>4.866071</td>\n",
       "      <td>22.400000</td>\n",
       "      <td>True</td>\n",
       "    </tr>\n",
       "    <tr>\n",
       "      <th>9</th>\n",
       "      <td>375</td>\n",
       "      <td>77</td>\n",
       "      <td>4.792208</td>\n",
       "      <td>0.000000</td>\n",
       "      <td>True</td>\n",
       "    </tr>\n",
       "  </tbody>\n",
       "</table>\n",
       "</div>"
      ],
      "text/plain": [
       "   Length_Char  Length_Words  Avg_Word_Length  Prop_Personal Self_Post\n",
       "0          757           170         4.441176      24.285714      True\n",
       "1           42            13         3.230769      13.000000      True\n",
       "2          450           121         3.677686      24.200000      True\n",
       "3          840           218         3.853211       9.909091      True\n",
       "4          893           218         4.082569      27.250000      True\n",
       "5         1526           385         3.911688      64.166667      True\n",
       "6          181            46         3.934783      15.333333      True\n",
       "7           14             4         3.500000       0.000000      True\n",
       "8          545           112         4.866071      22.400000      True\n",
       "9          375            77         4.792208       0.000000      True"
      ]
     },
     "execution_count": 29,
     "metadata": {},
     "output_type": "execute_result"
    }
   ],
   "source": [
    "features_matrix[:10]"
   ]
  },
  {
   "cell_type": "code",
   "execution_count": null,
   "metadata": {
    "collapsed": true
   },
   "outputs": [],
   "source": []
  }
 ],
 "metadata": {
  "anaconda-cloud": {},
  "kernelspec": {
   "display_name": "Python [conda env:ds100]",
   "language": "python",
   "name": "conda-env-ds100-py"
  },
  "language_info": {
   "codemirror_mode": {
    "name": "ipython",
    "version": 3
   },
   "file_extension": ".py",
   "mimetype": "text/x-python",
   "name": "python",
   "nbconvert_exporter": "python",
   "pygments_lexer": "ipython3",
   "version": "3.5.2"
  }
 },
 "nbformat": 4,
 "nbformat_minor": 1
}
