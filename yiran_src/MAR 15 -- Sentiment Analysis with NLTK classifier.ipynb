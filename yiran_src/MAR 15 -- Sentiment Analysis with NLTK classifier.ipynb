{
 "cells": [
  {
   "cell_type": "markdown",
   "metadata": {},
   "source": [
    "### SA on sentences w/ medication\n",
    "http://textminingonline.com/dive-into-nltk-part-ix-from-text-classification-to-sentiment-analysis"
   ]
  },
  {
   "cell_type": "code",
   "execution_count": 5,
   "metadata": {
    "collapsed": true
   },
   "outputs": [],
   "source": [
    "# Trained with nltk movie_reviews"
   ]
  },
  {
   "cell_type": "code",
   "execution_count": 57,
   "metadata": {
    "collapsed": false
   },
   "outputs": [
    {
     "name": "stderr",
     "output_type": "stream",
     "text": [
      "/Users/elenajia/anaconda/lib/python3.6/site-packages/nltk/twitter/__init__.py:20: UserWarning: The twython library has not been installed. Some functionality from the twitter package will not be available.\n",
      "  warnings.warn(\"The twython library has not been installed. \"\n"
     ]
    }
   ],
   "source": [
    "import nltk\n",
    "from nltk.corpus import movie_reviews\n",
    "from random import shuffle\n",
    "from nltk import tokenize\n",
    "from nltk.tokenize import RegexpTokenizer\n",
    "from stop_words import get_stop_words\n",
    "from nltk.stem.porter import PorterStemmer\n",
    "from gensim import corpora, models\n",
    "import pandas as pd\n",
    "import gensim\n",
    "import nltk\n",
    "import numbers\n",
    "from nltk.sentiment.vader import SentimentIntensityAnalyzer"
   ]
  },
  {
   "cell_type": "code",
   "execution_count": 58,
   "metadata": {
    "collapsed": true
   },
   "outputs": [],
   "source": [
    "def document_features(document):\n",
    "    document_words = set(document)\n",
    "    features = {}\n",
    "    for word in word_features:\n",
    "        features['contains(%s)' % word] = (word in document_words)\n",
    "    return features"
   ]
  },
  {
   "cell_type": "code",
   "execution_count": 7,
   "metadata": {
    "collapsed": false
   },
   "outputs": [],
   "source": [
    "documents = [(list(movie_reviews.words(fileid)), category) \n",
    "for category in movie_reviews.categories()\n",
    "for fileid in movie_reviews.fileids(category)]"
   ]
  },
  {
   "cell_type": "code",
   "execution_count": 8,
   "metadata": {
    "collapsed": true
   },
   "outputs": [],
   "source": [
    "shuffle(documents)"
   ]
  },
  {
   "cell_type": "code",
   "execution_count": 9,
   "metadata": {
    "collapsed": false
   },
   "outputs": [
    {
     "name": "stdout",
     "output_type": "stream",
     "text": [
      "(['synopsis', ':', 'leonard', 'shelby', '(', 'pearce', ')', 'is', 'a', 'former', 'insurance', 'investigator', 'on', 'the', 'trail', 'of', 'the', 'man', 'who', 'killed', 'his', 'wife', '.', 'leonard', 'has', 'only', 'a', 'few', 'clues', 'to', 'the', 'murderer', \"'\", 's', 'identity', ';', 'to', 'make', 'matters', 'worse', ',', 'he', 'suffers', 'from', 'a', 'condition', 'which', 'inhibits', 'the', 'creation', 'of', 'short', '-', 'term', 'memories', ',', 'meaning', 'that', 'leonard', 'is', 'always', 'forgetting', 'what', 'happened', 'just', 'minutes', 'earlier', '.', 'because', 'of', 'this', ',', 'leonard', 'is', 'forced', 'to', 'rely', 'on', 'notes', 'he', 'leaves', 'for', 'himself', '.', '\"', 'memento', '\"', 'traces', 'the', 'investigation', 'back', 'in', 'time', 'from', 'its', 'apparent', 'culmination', '.', 'review', ':', '\"', 'memento', '\"', 'is', 'the', 'sort', 'of', 'movie', 'i', 'wish', 'i', \"'\", 'd', 'written', ';', 'i', 'can', 'think', 'of', 'no', 'higher', 'praise', 'than', 'that', '.', 'i', 'am', 'envious', 'that', 'nolan', 'has', 'concocted', 'such', 'a', 'brilliant', ',', 'involved', ',', 'original', 'movie', 'as', 'this', '.', 'an', 'instant', 'film', 'noir', 'classic', ',', '\"', 'memento', '\"', 'is', 'virtually', 'flawless', '.', 'the', 'script', 'is', 'unlike', 'any', 'i', 'have', 'ever', 'seen', '--', 'a', 'notable', 'achievement', 'in', 'these', 'days', 'of', 'recycled', 'hollywood', 'homogeneity', '.', 'although', 'the', 'idea', 'of', 'starting', 'at', 'the', '\"', 'conclusion', '\"', 'of', 'the', 'plotline', 'and', 'then', 'moving', 'backward', 'in', 'time', 'to', 'the', '\"', 'start', '\"', 'is', 'not', 'entirely', 'new', ',', 'never', 'before', 'have', 'i', 'witnessed', 'it', 'executed', 'with', 'such', 'flair', 'and', 'coherence', '.', '\"', 'memento', '\"', 'is', 'endlessly', 'exciting', 'and', 'inventive', ',', 'a', 'rare', 'story', 'which', 'keeps', 'the', 'viewers', 'guessing', 'during', 'the', 'film', 'itself', ',', 'and', 'mulling', 'over', 'its', 'connotations', 'long', 'after', 'leaving', 'the', 'theatre', '.', 'and', 'it', 'is', 'not', 'merely', 'an', 'exercise', 'in', 'cerebrality', ';', 'there', 'is', 'plenty', 'of', 'action', 'and', 'an', 'unexpected', 'dose', 'of', 'humour', 'to', 'keep', 'the', 'proceedings', 'lively', '.', 'nolan', \"'\", 's', 'direction', 'is', 'equally', 'effective', ',', 'never', 'losing', 'its', 'crispness', 'and', 'clarity', 'despite', '\"', 'memento', '\"', \"'\", 's', 'challenging', 'gimmick', '.', 'and', 'to', 'top', 'everything', 'off', ',', 'all', 'the', 'performances', 'rise', 'to', 'the', 'occasion', '.', 'pierce', 'is', 'terrific', 'as', 'the', 'troubled', 'leonard', ';', 'moss', 'shows', 'great', 'range', 'as', 'enigmatic', 'natalie', ';', 'and', 'pantoliano', \"'\", 's', 'teddy', 'achieves', 'a', 'splendidly', 'affable', 'yet', 'sinister', 'quality', '.', '\"', 'memento', '\"', 'may', 'be', 'the', 'year', \"'\", 's', 'best', 'screenplay', ',', 'and', 'is', 'certainly', 'amongst', 'the', 'top', 'theatrical', 'attractions', 'of', '2001', '.'], 'pos')\n"
     ]
    }
   ],
   "source": [
    "print (documents[0])"
   ]
  },
  {
   "cell_type": "code",
   "execution_count": 10,
   "metadata": {
    "collapsed": false
   },
   "outputs": [
    {
     "data": {
      "text/plain": [
       "2000"
      ]
     },
     "execution_count": 10,
     "metadata": {},
     "output_type": "execute_result"
    }
   ],
   "source": [
    "len(documents)"
   ]
  },
  {
   "cell_type": "code",
   "execution_count": 11,
   "metadata": {
    "collapsed": true
   },
   "outputs": [],
   "source": [
    "all_words = nltk.FreqDist(w.lower() for w in movie_reviews.words())"
   ]
  },
  {
   "cell_type": "code",
   "execution_count": 12,
   "metadata": {
    "collapsed": false
   },
   "outputs": [],
   "source": [
    "# word_features = all_words.keys()[:2000]\n",
    "word_features = list(all_words.keys())[:2000]"
   ]
  },
  {
   "cell_type": "code",
   "execution_count": 61,
   "metadata": {
    "collapsed": false
   },
   "outputs": [
    {
     "data": {
      "text/plain": [
       "2000"
      ]
     },
     "execution_count": 61,
     "metadata": {},
     "output_type": "execute_result"
    }
   ],
   "source": [
    "len(featuresets)"
   ]
  },
  {
   "cell_type": "code",
   "execution_count": 62,
   "metadata": {
    "collapsed": false
   },
   "outputs": [],
   "source": [
    "# print (document_features(movie_reviews.words('pos/cv957_8737.txt')))"
   ]
  },
  {
   "cell_type": "code",
   "execution_count": 63,
   "metadata": {
    "collapsed": false
   },
   "outputs": [],
   "source": [
    "featuresets = [(document_features(d), c) for (d, c) in documents]"
   ]
  },
  {
   "cell_type": "code",
   "execution_count": 64,
   "metadata": {
    "collapsed": true
   },
   "outputs": [],
   "source": [
    "train_set, test_set = featuresets[100:], featuresets[:100]"
   ]
  },
  {
   "cell_type": "code",
   "execution_count": 65,
   "metadata": {
    "collapsed": true
   },
   "outputs": [],
   "source": [
    "# classifier = nltk.NaiveBayesClassifier.train(train_set)\n",
    "\n",
    "full_classifier = nltk.NaiveBayesClassifier.train(featuresets)"
   ]
  },
  {
   "cell_type": "code",
   "execution_count": 66,
   "metadata": {
    "collapsed": false
   },
   "outputs": [
    {
     "name": "stdout",
     "output_type": "stream",
     "text": [
      "0.8\n"
     ]
    }
   ],
   "source": [
    "print (nltk.classify.accuracy(classifier, test_set))"
   ]
  },
  {
   "cell_type": "code",
   "execution_count": 19,
   "metadata": {
    "collapsed": false,
    "scrolled": true
   },
   "outputs": [
    {
     "name": "stdout",
     "output_type": "stream",
     "text": [
      "Most Informative Features\n",
      "        contains(sexist) = True              neg : pos    =      7.6 : 1.0\n",
      " contains(unimaginative) = True              neg : pos    =      7.6 : 1.0\n",
      "       contains(martian) = True              neg : pos    =      7.6 : 1.0\n",
      "    contains(schumacher) = True              neg : pos    =      7.3 : 1.0\n",
      "        contains(suvari) = True              neg : pos    =      6.9 : 1.0\n",
      "     contains(atrocious) = True              neg : pos    =      6.9 : 1.0\n",
      "          contains(mena) = True              neg : pos    =      6.9 : 1.0\n",
      "        contains(shoddy) = True              neg : pos    =      6.9 : 1.0\n",
      "        contains(turkey) = True              neg : pos    =      6.5 : 1.0\n",
      "       contains(singers) = True              pos : neg    =      5.7 : 1.0\n"
     ]
    }
   ],
   "source": [
    "classifier.show_most_informative_features(10)"
   ]
  },
  {
   "cell_type": "markdown",
   "metadata": {},
   "source": [
    "### test"
   ]
  },
  {
   "cell_type": "code",
   "execution_count": 1,
   "metadata": {
    "collapsed": false
   },
   "outputs": [],
   "source": []
  },
  {
   "cell_type": "code",
   "execution_count": 67,
   "metadata": {
    "collapsed": true
   },
   "outputs": [],
   "source": [
    "df1 = pd.read_csv('s_med.csv')"
   ]
  },
  {
   "cell_type": "code",
   "execution_count": 3,
   "metadata": {
    "collapsed": true
   },
   "outputs": [],
   "source": [
    "sent_a = list(df1['med_sentence'].values)"
   ]
  },
  {
   "cell_type": "code",
   "execution_count": 75,
   "metadata": {
    "collapsed": false
   },
   "outputs": [
    {
     "name": "stdout",
     "output_type": "stream",
     "text": [
      "0.0857200461554\n",
      "0.481\n"
     ]
    }
   ],
   "source": [
    "res_s_dic = []\n",
    "# res_s_dic1 = []\n",
    "\n",
    "df_res_s = pd.DataFrame([])\n",
    "\n",
    "sid = SentimentIntensityAnalyzer()\n",
    "\n",
    "for i, sentence in enumerate(sent_a[:500]):\n",
    "    test_set = document_features(sentence.split())  #TODO: change to tokenize\n",
    "    # res_s_dic1.append(classifier.classify(test_set))\n",
    "    \n",
    "    prob_result = full_classifier.prob_classify(test_set)\n",
    "    \n",
    "#     dic = {}\n",
    "#     dic[\"s\"] = sentence\n",
    "#     dic[\"neg\"] = prob_result.prob(\"neg\")\n",
    "#     dic[\"pos\"] = prob_result.prob(\"pos\")\n",
    "    \n",
    "#     res_s_dic.append(dic)\n",
    "    df_res_s.loc[i,'neg_prob'] = prob_result.prob(\"neg\")\n",
    "    df_res_s.loc[i,'pos_prob'] = prob_result.prob(\"pos\")\n",
    "    \n",
    "    sid_s = sid.polarity_scores(sentence)\n",
    "    df_res_s.loc[i,'neg_vader'] = sid_s['neg']\n",
    "    df_res_s.loc[i,'neu_vader'] = sid_s['neu']\n",
    "    df_res_s.loc[i,'pos_vader'] = sid_s['pos']\n",
    "    \n",
    "    df_res_s.loc[i,'sentence'] = sentence\n",
    "    \n",
    "# df_res_s[df_res_s['pos_prob'] > .001]['sentence']\n",
    "print(df_res_s['pos_prob'].max())\n",
    "print(df_res_s['pos_vader'].max())\n",
    "df_res_s.to_csv('s_med_with_score_first500.csv')\n",
    "# print (res_s_dic)"
   ]
  },
  {
   "cell_type": "code",
   "execution_count": 73,
   "metadata": {
    "collapsed": false
   },
   "outputs": [
    {
     "name": "stdout",
     "output_type": "stream",
     "text": [
      "0.0857200461554\n",
      "0.481\n"
     ]
    }
   ],
   "source": []
  },
  {
   "cell_type": "code",
   "execution_count": 53,
   "metadata": {
    "collapsed": false
   },
   "outputs": [
    {
     "name": "stdout",
     "output_type": "stream",
     "text": [
      "0.9999933488186242 6.651181374692312e-06\n"
     ]
    }
   ],
   "source": [
    "prob_result = classifier.prob_classify(document_features(str('I love it! This is great!!!').split()))\n",
    "print(prob_result.prob(\"neg\"), prob_result.prob(\"pos\"))\n"
   ]
  },
  {
   "cell_type": "code",
   "execution_count": 30,
   "metadata": {
    "collapsed": false
   },
   "outputs": [],
   "source": [
    "df_res_s = pd.DataFrame(res_s_dic)\n",
    "# print (df_res_s)\n",
    "\n",
    "df_res_s.to_csv('s_med_with_score_first100.csv')"
   ]
  },
  {
   "cell_type": "code",
   "execution_count": 21,
   "metadata": {
    "collapsed": true
   },
   "outputs": [],
   "source": [
    "import seaborn as sns\n",
    "%matplotlib inline\n",
    "sns.set_style(\"whitegrid\")"
   ]
  },
  {
   "cell_type": "code",
   "execution_count": 22,
   "metadata": {
    "collapsed": false
   },
   "outputs": [
    {
     "data": {
      "image/png": "[encoded data removed]",
      "text/plain": [
       "<matplotlib.figure.Figure at 0x11fcaeac8>"
      ]
     },
     "metadata": {},
     "output_type": "display_data"
    }
   ],
   "source": [
    "ax = sns.boxplot(data= df_res_s,palette=\"PRGn\")"
   ]
  },
  {
   "cell_type": "markdown",
   "metadata": {
    "collapsed": true
   },
   "source": [
    "#### posts"
   ]
  },
  {
   "cell_type": "code",
   "execution_count": 23,
   "metadata": {
    "collapsed": true
   },
   "outputs": [],
   "source": [
    "df2 = pd.read_csv('p_med.csv')"
   ]
  },
  {
   "cell_type": "code",
   "execution_count": 24,
   "metadata": {
    "collapsed": false
   },
   "outputs": [],
   "source": [
    "post_a = list(df2['selftext'].values)"
   ]
  },
  {
   "cell_type": "code",
   "execution_count": 23,
   "metadata": {
    "collapsed": false
   },
   "outputs": [],
   "source": [
    "# res_p_dic = []\n",
    "# res_p_dic1 = []\n",
    "\n",
    "\n",
    "# for p in post_a:\n",
    "#     test_set = document_features(str(p).split())\n",
    "#     # res_s_dic1.append(classifier.classify(test_set))\n",
    "    \n",
    "#     prob_result = classifier.prob_classify(test_set)\n",
    "    \n",
    "#     dic = {}\n",
    "#     dic[\"z_p\"] = p\n",
    "#     dic[\"neg\"] = prob_result.prob(\"neg\")\n",
    "#     dic[\"pos\"] = prob_result.prob(\"pos\")\n",
    "    \n",
    "#     res_p_dic.append(dic)\n",
    "    \n",
    "# print (res_p_dic)"
   ]
  },
  {
   "cell_type": "code",
   "execution_count": 28,
   "metadata": {
    "collapsed": false
   },
   "outputs": [
    {
     "name": "stdout",
     "output_type": "stream",
     "text": [
      "           neg       pos                                                z_p\n",
      "0     0.995418  0.004582  Second day on drugs and it has already started...\n",
      "1     0.995187  0.004813  I'm not sure where to start. I've been lurking...\n",
      "2     0.999146  0.000854  I'm a 23 year old female and I've been battlin...\n",
      "3     0.855427  0.144573  A bit of a strange question, I suppose, but he...\n",
      "4     0.999994  0.000006  Has anyone ever had this experience that nothi...\n",
      "5     0.996587  0.003413  To start, I'm using a throwaway/anonymous acco...\n",
      "6     0.998594  0.001406  I've always what I'd consider moderate anxiety...\n",
      "7     0.995042  0.004958  Hey everyone. I've been lurking here for aroun...\n",
      "8     0.565337  0.434663  I have GAD, I have had many anxieties come and...\n",
      "9     0.310329  0.689671  I have a nearly impossible time saying no to a...\n",
      "10    0.998759  0.001241  I've been working with my doctor over the past...\n",
      "11    0.156367  0.843633  **Actual experiences with meds will be quoted,...\n",
      "12    0.996197  0.003803  I am a 19 year old female diagnosed with a GAD...\n",
      "13    0.999941  0.000059  Have been having difficulty breathing and ches...\n",
      "14    0.859817  0.140183  I do not have depression or anxiety, I have ne...\n",
      "15    0.987567  0.012433  I am in desperate need of some help... and I n...\n",
      "16    0.981917  0.018083  I think I need to pour this out in one place. ...\n",
      "17    0.996276  0.003724  I am in the process of seeing a Psychiatrist a...\n",
      "18    0.997697  0.002303  Hey guys,\\n\\nI just got prescribed new meds Le...\n",
      "19    0.999656  0.000344  This week has just been awful for me anxiety w...\n",
      "20    0.986634  0.013366  Two years ago I started seeing a psychiatrist ...\n",
      "21    0.921584  0.078416  I'll make a long story short. \\n\\nI have Pure ...\n",
      "22    0.999990  0.000010  I really hate doing this but it seems like any...\n",
      "23    0.994997  0.005003  So I finally mustered up the courage to go to ...\n",
      "24    0.006330  0.993670  Hi guys, \\n\\nI've had an acute (but severe) an...\n",
      "25    0.999974  0.000026  I was diagnosed with severe depression and anx...\n",
      "26    0.999842  0.000158  It was fine until I stopped taking my antidepr...\n",
      "27    0.985624  0.014376  I spent my morning in the ER today because I w...\n",
      "28    0.999917  0.000083  So I lied to my girlfriend. I know its wrong. ...\n",
      "29    0.997743  0.002257  Hey guys, I have an issue with anxiety (surpri...\n",
      "...        ...       ...                                                ...\n",
      "8983  0.999278  0.000722  so my doctor prescribed me buspar for my anxie...\n",
      "8984  0.997681  0.002319  Hello everyone, would love to hear your though...\n",
      "8985  0.983470  0.016530  I was basically a hermit from about March of t...\n",
      "8986  0.988721  0.011279  Okay, I have three dogs. One 12 year old lab, ...\n",
      "8987  0.999876  0.000124  First, some general basics:\\n120mg Cymbalta \\n...\n",
      "8988  0.999753  0.000247  Hiyas, \\nDue to some government reason in Aust...\n",
      "8989  0.767046  0.232954  Hi guys! I'm a rising junior college student a...\n",
      "8990  0.999868  0.000132  She's been aware that I suffer from panic atta...\n",
      "8991  0.975910  0.024090  I'm a second year at university and I'm curren...\n",
      "8992  0.970697  0.029303  Is anyone else plagued by this? I believe it's...\n",
      "8993  0.967195  0.032805  So after roughly 7 years of regularly taking s...\n",
      "8994  0.998945  0.001055  I'm 20 and male, and I have severe depression ...\n",
      "8995  0.900432  0.099568  I've had anxiety issues for almost 10 years no...\n",
      "8996  0.988823  0.011177  I have had bad anxiety &amp; panic attacks sin...\n",
      "8997  0.999161  0.000839  I was put on Klonopin this September, 1 mg twi...\n",
      "8998  0.999358  0.000642  Several years ago my psychiatrist got me a pre...\n",
      "8999  0.742841  0.257159  It's hard to summarize two decades, but I'll t...\n",
      "9000  0.997646  0.002354  once again my health anxiety is flaring up bec...\n",
      "9001  0.999882  0.000118  I'm going on my first flight since my onset of...\n",
      "9002  0.999645  0.000355  For years now whenever I'm talking normally pe...\n",
      "9003  0.999666  0.000334  Started having some anxiety about flying a num...\n",
      "9004  0.998546  0.001454  Every time I try to talk to someone about atta...\n",
      "9005  0.999230  0.000770  Looking for peoples experience with medicine t...\n",
      "9006  0.997107  0.002893  *Male 21, USA, pretty good insurance but seein...\n",
      "9007  0.995226  0.004774  Spending the day with my mother in law. ( As a...\n",
      "9008  0.760206  0.239794  i saw my doctor last week and he suggested i g...\n",
      "9009  0.985793  0.014207  Good morning, r/Anxiety. \\n\\nI think I may jus...\n",
      "9010  0.309404  0.690596  Nothing is real today, nothing feels right\\n\\t...\n",
      "9011  0.997668  0.002332  hello /r/anxiety! this is my first post here a...\n",
      "9012  0.994519  0.005481  I started having panic attacks about three mon...\n",
      "\n",
      "[9013 rows x 3 columns]\n"
     ]
    }
   ],
   "source": [
    "df_res_p = pd.DataFrame(res_p_dic)\n",
    "print (df_res_p)"
   ]
  },
  {
   "cell_type": "code",
   "execution_count": 29,
   "metadata": {
    "collapsed": false
   },
   "outputs": [
    {
     "data": {
      "image/png": "[encoded data removed]",
      "text/plain": [
       "<matplotlib.figure.Figure at 0x1200daa90>"
      ]
     },
     "metadata": {},
     "output_type": "display_data"
    }
   ],
   "source": [
    "ax_2 = sns.boxplot(data= df_res_p,palette=\"PRGn\")"
   ]
  },
  {
   "cell_type": "code",
   "execution_count": null,
   "metadata": {
    "collapsed": true
   },
   "outputs": [],
   "source": []
  }
 ],
 "metadata": {
  "kernelspec": {
   "display_name": "Python 3",
   "language": "python",
   "name": "python3"
  },
  "language_info": {
   "codemirror_mode": {
    "name": "ipython",
    "version": 3
   },
   "file_extension": ".py",
   "mimetype": "text/x-python",
   "name": "python",
   "nbconvert_exporter": "python",
   "pygments_lexer": "ipython3",
   "version": "3.6.0"
  }
 },
 "nbformat": 4,
 "nbformat_minor": 2
}
