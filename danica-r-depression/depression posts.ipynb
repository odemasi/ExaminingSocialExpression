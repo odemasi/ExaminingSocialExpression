{
 "cells": [
  {
   "cell_type": "code",
   "execution_count": 2,
   "metadata": {
    "collapsed": true
   },
   "outputs": [],
   "source": [
    "import pandas as pd"
   ]
  },
  {
   "cell_type": "code",
   "execution_count": 3,
   "metadata": {
    "collapsed": true
   },
   "outputs": [],
   "source": [
    "import matplotlib\n",
    "%matplotlib inline\n",
    "import matplotlib.pyplot as plt"
   ]
  },
  {
   "cell_type": "code",
   "execution_count": 8,
   "metadata": {
    "collapsed": true
   },
   "outputs": [],
   "source": [
    "import numpy as np"
   ]
  },
  {
   "cell_type": "code",
   "execution_count": 4,
   "metadata": {
    "collapsed": false,
    "scrolled": true
   },
   "outputs": [
    {
     "name": "stderr",
     "output_type": "stream",
     "text": [
      "/Users/danicatanquilut/anaconda3/envs/ds100/lib/python3.5/site-packages/IPython/core/interactiveshell.py:2717: DtypeWarning: Columns (31,33) have mixed types. Specify dtype option on import or set low_memory=False.\n",
      "  interactivity=interactivity, compiler=compiler, result=result)\n"
     ]
    }
   ],
   "source": [
    "posts = pd.read_csv(\"depression_posts_full_corpus_201509.csv\")"
   ]
  },
  {
   "cell_type": "code",
   "execution_count": 18,
   "metadata": {
    "collapsed": false,
    "scrolled": false
   },
   "outputs": [
    {
     "data": {
      "text/plain": [
       "0    True\n",
       "1    True\n",
       "2    True\n",
       "3    True\n",
       "4    True\n",
       "5    True\n",
       "6    True\n",
       "7    True\n",
       "8    True\n",
       "9    True\n",
       "Name: is_self, dtype: bool"
      ]
     },
     "execution_count": 18,
     "metadata": {},
     "output_type": "execute_result"
    }
   ],
   "source": [
    "# list(posts)\n",
    "posts[:10]['is_self']"
   ]
  },
  {
   "cell_type": "code",
   "execution_count": 16,
   "metadata": {
    "collapsed": false
   },
   "outputs": [
    {
     "data": {
      "text/html": [
       "<div>\n",
       "<table border=\"1\" class=\"dataframe\">\n",
       "  <thead>\n",
       "    <tr style=\"text-align: right;\">\n",
       "      <th></th>\n",
       "      <th>domain</th>\n",
       "      <th>subreddit</th>\n",
       "      <th>selftext</th>\n",
       "      <th>saved</th>\n",
       "      <th>id</th>\n",
       "      <th>from_kind</th>\n",
       "      <th>gilded</th>\n",
       "      <th>from</th>\n",
       "      <th>stickied</th>\n",
       "      <th>title</th>\n",
       "      <th>...</th>\n",
       "      <th>name</th>\n",
       "      <th>created</th>\n",
       "      <th>url</th>\n",
       "      <th>author_flair_text</th>\n",
       "      <th>quarantine</th>\n",
       "      <th>author</th>\n",
       "      <th>created_utc</th>\n",
       "      <th>link_flair_text</th>\n",
       "      <th>ups</th>\n",
       "      <th>distinguished</th>\n",
       "    </tr>\n",
       "  </thead>\n",
       "  <tbody>\n",
       "  </tbody>\n",
       "</table>\n",
       "<p>0 rows × 34 columns</p>\n",
       "</div>"
      ],
      "text/plain": [
       "Empty DataFrame\n",
       "Columns: [domain, subreddit, selftext, saved, id, from_kind, gilded, from, stickied, title, num_comments, score, retrieved_on, over_18, thumbnail, subreddit_id, hide_score, link_flair_css_class, author_flair_css_class, downs, archived, is_self, from_id, permalink, name, created, url, author_flair_text, quarantine, author, created_utc, link_flair_text, ups, distinguished]\n",
       "Index: []\n",
       "\n",
       "[0 rows x 34 columns]"
      ]
     },
     "execution_count": 16,
     "metadata": {},
     "output_type": "execute_result"
    }
   ],
   "source": [
    "posts[np.isnan(posts['is_self'].values)]\n",
    "# print( posts['is_self'].loc[0], np.isnan((posts['is_self'].loc[0])))"
   ]
  },
  {
   "cell_type": "code",
   "execution_count": 21,
   "metadata": {
    "collapsed": false
   },
   "outputs": [
    {
     "data": {
      "text/html": [
       "<div>\n",
       "<table border=\"1\" class=\"dataframe\">\n",
       "  <thead>\n",
       "    <tr style=\"text-align: right;\">\n",
       "      <th></th>\n",
       "      <th>domain</th>\n",
       "      <th>subreddit</th>\n",
       "      <th>selftext</th>\n",
       "      <th>saved</th>\n",
       "      <th>id</th>\n",
       "      <th>from_kind</th>\n",
       "      <th>gilded</th>\n",
       "      <th>from</th>\n",
       "      <th>stickied</th>\n",
       "      <th>title</th>\n",
       "      <th>...</th>\n",
       "      <th>name</th>\n",
       "      <th>created</th>\n",
       "      <th>url</th>\n",
       "      <th>author_flair_text</th>\n",
       "      <th>quarantine</th>\n",
       "      <th>author</th>\n",
       "      <th>created_utc</th>\n",
       "      <th>link_flair_text</th>\n",
       "      <th>ups</th>\n",
       "      <th>distinguished</th>\n",
       "    </tr>\n",
       "  </thead>\n",
       "  <tbody>\n",
       "    <tr>\n",
       "      <th>192835</th>\n",
       "      <td>self.depression</td>\n",
       "      <td>depression</td>\n",
       "      <td>its like my mind just starts to increase in vo...</td>\n",
       "      <td>False</td>\n",
       "      <td>354jpl</td>\n",
       "      <td>NaN</td>\n",
       "      <td>0</td>\n",
       "      <td>NaN</td>\n",
       "      <td>False</td>\n",
       "      <td>my thoughts just start screaming in my mind, d...</td>\n",
       "      <td>...</td>\n",
       "      <td>t3_354jpl</td>\n",
       "      <td>1430965343</td>\n",
       "      <td>http://www.reddit.com/r/depression/comments/35...</td>\n",
       "      <td>NaN</td>\n",
       "      <td>False</td>\n",
       "      <td>Blagfar</td>\n",
       "      <td>1430961743</td>\n",
       "      <td>NaN</td>\n",
       "      <td>2</td>\n",
       "      <td>NaN</td>\n",
       "    </tr>\n",
       "  </tbody>\n",
       "</table>\n",
       "<p>1 rows × 34 columns</p>\n",
       "</div>"
      ],
      "text/plain": [
       "                 domain   subreddit  \\\n",
       "192835  self.depression  depression   \n",
       "\n",
       "                                                 selftext  saved      id  \\\n",
       "192835  its like my mind just starts to increase in vo...  False  354jpl   \n",
       "\n",
       "        from_kind  gilded  from stickied  \\\n",
       "192835        NaN       0   NaN    False   \n",
       "\n",
       "                                                    title      ...        \\\n",
       "192835  my thoughts just start screaming in my mind, d...      ...         \n",
       "\n",
       "             name     created  \\\n",
       "192835  t3_354jpl  1430965343   \n",
       "\n",
       "                                                      url author_flair_text  \\\n",
       "192835  http://www.reddit.com/r/depression/comments/35...               NaN   \n",
       "\n",
       "       quarantine   author created_utc  link_flair_text  ups  distinguished  \n",
       "192835      False  Blagfar  1430961743              NaN    2            NaN  \n",
       "\n",
       "[1 rows x 34 columns]"
      ]
     },
     "execution_count": 21,
     "metadata": {},
     "output_type": "execute_result"
    }
   ],
   "source": [
    "posts[posts[\"name\"]== \"t3_354jpl\"]"
   ]
  },
  {
   "cell_type": "code",
   "execution_count": 23,
   "metadata": {
    "collapsed": false
   },
   "outputs": [
    {
     "data": {
      "text/plain": [
       "147692    17\n",
       "Name: num_comments, dtype: int64"
      ]
     },
     "execution_count": 23,
     "metadata": {},
     "output_type": "execute_result"
    }
   ],
   "source": [
    "posts[posts[\"name\"]==\"t3_3650pt\"][\"num_comments\"]"
   ]
  },
  {
   "cell_type": "code",
   "execution_count": 4,
   "metadata": {
    "collapsed": true
   },
   "outputs": [],
   "source": [
    "posts_by_author = posts.groupby('author').count()"
   ]
  },
  {
   "cell_type": "code",
   "execution_count": 5,
   "metadata": {
    "collapsed": false
   },
   "outputs": [],
   "source": [
    "posts_by_author.drop(\"[deleted]\", inplace=True)"
   ]
  },
  {
   "cell_type": "code",
   "execution_count": 11,
   "metadata": {
    "collapsed": false
   },
   "outputs": [
    {
     "data": {
      "text/plain": [
       "<matplotlib.text.Text at 0x10e51e7f0>"
      ]
     },
     "execution_count": 11,
     "metadata": {},
     "output_type": "execute_result"
    },
    {
     "data": {
      "image/png": "[encoded data removed]",
      "text/plain": [
       "<matplotlib.figure.Figure at 0x10e4b5a20>"
      ]
     },
     "metadata": {},
     "output_type": "display_data"
    }
   ],
   "source": [
    "posts_by_author.hist(column=\"id\", bins=max(posts_by_author['id']))\n",
    "#plt.xlim(0, max(posts_by_author['id']))\n",
    "plt.xscale('log')\n",
    "plt.xlabel('Number of Posts')\n",
    "plt.ylabel('Count')\n",
    "plt.xlim([2,15])\n",
    "plt.title('Number of Posts per Author')"
   ]
  },
  {
   "cell_type": "code",
   "execution_count": 9,
   "metadata": {
    "collapsed": false
   },
   "outputs": [
    {
     "data": {
      "text/html": [
       "<div>\n",
       "<table border=\"1\" class=\"dataframe\">\n",
       "  <thead>\n",
       "    <tr style=\"text-align: right;\">\n",
       "      <th></th>\n",
       "      <th>domain</th>\n",
       "      <th>subreddit</th>\n",
       "      <th>selftext</th>\n",
       "      <th>saved</th>\n",
       "      <th>id</th>\n",
       "      <th>from_kind</th>\n",
       "      <th>gilded</th>\n",
       "      <th>from</th>\n",
       "      <th>stickied</th>\n",
       "      <th>title</th>\n",
       "      <th>...</th>\n",
       "      <th>permalink</th>\n",
       "      <th>name</th>\n",
       "      <th>created</th>\n",
       "      <th>url</th>\n",
       "      <th>author_flair_text</th>\n",
       "      <th>quarantine</th>\n",
       "      <th>created_utc</th>\n",
       "      <th>link_flair_text</th>\n",
       "      <th>ups</th>\n",
       "      <th>distinguished</th>\n",
       "    </tr>\n",
       "    <tr>\n",
       "      <th>author</th>\n",
       "      <th></th>\n",
       "      <th></th>\n",
       "      <th></th>\n",
       "      <th></th>\n",
       "      <th></th>\n",
       "      <th></th>\n",
       "      <th></th>\n",
       "      <th></th>\n",
       "      <th></th>\n",
       "      <th></th>\n",
       "      <th></th>\n",
       "      <th></th>\n",
       "      <th></th>\n",
       "      <th></th>\n",
       "      <th></th>\n",
       "      <th></th>\n",
       "      <th></th>\n",
       "      <th></th>\n",
       "      <th></th>\n",
       "      <th></th>\n",
       "      <th></th>\n",
       "    </tr>\n",
       "  </thead>\n",
       "  <tbody>\n",
       "    <tr>\n",
       "      <th>HHSOCCER28</th>\n",
       "      <td>103</td>\n",
       "      <td>103</td>\n",
       "      <td>97</td>\n",
       "      <td>103</td>\n",
       "      <td>103</td>\n",
       "      <td>0</td>\n",
       "      <td>103</td>\n",
       "      <td>0</td>\n",
       "      <td>103</td>\n",
       "      <td>103</td>\n",
       "      <td>...</td>\n",
       "      <td>103</td>\n",
       "      <td>103</td>\n",
       "      <td>103</td>\n",
       "      <td>103</td>\n",
       "      <td>0</td>\n",
       "      <td>103</td>\n",
       "      <td>103</td>\n",
       "      <td>0</td>\n",
       "      <td>103</td>\n",
       "      <td>0</td>\n",
       "    </tr>\n",
       "  </tbody>\n",
       "</table>\n",
       "<p>1 rows × 33 columns</p>\n",
       "</div>"
      ],
      "text/plain": [
       "            domain  subreddit  selftext  saved   id  from_kind  gilded  from  \\\n",
       "author                                                                         \n",
       "HHSOCCER28     103        103        97    103  103          0     103     0   \n",
       "\n",
       "            stickied  title      ...        permalink  name  created  url  \\\n",
       "author                           ...                                        \n",
       "HHSOCCER28       103    103      ...              103   103      103  103   \n",
       "\n",
       "            author_flair_text  quarantine  created_utc  link_flair_text  ups  \\\n",
       "author                                                                         \n",
       "HHSOCCER28                  0         103          103                0  103   \n",
       "\n",
       "            distinguished  \n",
       "author                     \n",
       "HHSOCCER28              0  \n",
       "\n",
       "[1 rows x 33 columns]"
      ]
     },
     "execution_count": 9,
     "metadata": {},
     "output_type": "execute_result"
    }
   ],
   "source": [
    "posts_by_author[posts_by_author['id']==max(posts_by_author['id'])]"
   ]
  },
  {
   "cell_type": "code",
   "execution_count": 13,
   "metadata": {
    "collapsed": false,
    "scrolled": true
   },
   "outputs": [
    {
     "data": {
      "text/plain": [
       "(197436, 34)"
      ]
     },
     "execution_count": 13,
     "metadata": {},
     "output_type": "execute_result"
    }
   ],
   "source": [
    "posts.shape"
   ]
  },
  {
   "cell_type": "code",
   "execution_count": null,
   "metadata": {
    "collapsed": true
   },
   "outputs": [],
   "source": []
  }
 ],
 "metadata": {
  "anaconda-cloud": {},
  "kernelspec": {
   "display_name": "Python [conda env:ds100]",
   "language": "python",
   "name": "conda-env-ds100-py"
  },
  "language_info": {
   "codemirror_mode": {
    "name": "ipython",
    "version": 3
   },
   "file_extension": ".py",
   "mimetype": "text/x-python",
   "name": "python",
   "nbconvert_exporter": "python",
   "pygments_lexer": "ipython3",
   "version": "3.5.2"
  }
 },
 "nbformat": 4,
 "nbformat_minor": 1
}
