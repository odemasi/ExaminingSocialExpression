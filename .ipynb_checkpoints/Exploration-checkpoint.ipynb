{
 "cells": [
  {
   "cell_type": "markdown",
   "metadata": {},
   "source": [
    "Preliminaries\n",
    "========="
   ]
  },
  {
   "cell_type": "code",
   "execution_count": 1,
   "metadata": {
    "collapsed": false
   },
   "outputs": [],
   "source": [
    "%matplotlib inline\n",
    "\n",
    "import pprint\n",
    "import sqlite3\n",
    "from datetime import datetime\n",
    "import matplotlib.pyplot as plt\n",
    "import numpy as np\n",
    "import sys\n",
    "from datascience import *\n",
    "import matplotlib.dates as mdate"
   ]
  },
  {
   "cell_type": "markdown",
   "metadata": {},
   "source": [
    "Load the database, store in cursor"
   ]
  },
  {
   "cell_type": "code",
   "execution_count": 2,
   "metadata": {
    "collapsed": false
   },
   "outputs": [
    {
     "data": {
      "text/plain": [
       "<bound method Table.with_columns of >"
      ]
     },
     "execution_count": 2,
     "metadata": {},
     "output_type": "execute_result"
    }
   ],
   "source": [
    "# connection = sqlite3.connect('test5.db')\n",
    "# cursor = connection.cursor()\n",
    "# print('Opened database successfully')\n",
    "#NOTE: Will change the implementation to a database per table."
   ]
  },
  {
   "cell_type": "markdown",
   "metadata": {},
   "source": [
    "#### Some Helper Functions:\n"
   ]
  },
  {
   "cell_type": "code",
   "execution_count": 9,
   "metadata": {
    "collapsed": false
   },
   "outputs": [],
   "source": [
    "\n",
    "def avg_num_comments(submission_table):\n",
    "    connection = sqlite3.connect(submission_table + '.db')\n",
    "    cursor = connection.cursor()\n",
    "    total_num_comments = cursor.execute('select sum(num_comments) from {}'.format(submission_table +'_submission_data')).fetchone()[0]\n",
    "    num_submissions = cursor.execute('select count(id) from {}'.format(submission_table)).fetchone()[0]\n",
    "    connection.close()\n",
    "    return total_num_comments / num_submissions\n",
    "\n",
    "def max_num_comments(submission_table):\n",
    "    connection = sqlite3.connect(submission_table + '.db')\n",
    "    cursor = connection.cursor()\n",
    "    max_comments = cursor.execute('select max(num_comments) from {}'.format(submission_table + '_submission_data')).fetchone()[0]\n",
    "    connection.close()\n",
    "    return max_comments\n",
    "\n",
    "def median_num_comments(submission_table):\n",
    "    return\n",
    "\n",
    "def avg_comment_text_chars(comment_table_name):\n",
    "    connection = sqlite3.connect(comment_table_name+ '.db')\n",
    "    cursor = connection.cursor()\n",
    "    sum_len = 0\n",
    "    comments = cursor.execute('SELECT self_text FROM {}'.format(comment_table_name +'_comment_data')).fetchall()\n",
    "    comment_count = cursor.execute('SELECT count(id) FROM {}'.format(comment_table_name + '_comment_data')).fetchall()\n",
    "    for comment in comments:\n",
    "        sum_len += len(comment)\n",
    "    connection.close()\n",
    "    return sum_len/comment_count\n",
    "    \n",
    "def get_avg_row_bytes(table):\n",
    "    byte_count = 0\n",
    "    connection = sqlite3.connect(table +'.db')\n",
    "    cursor = connection.cursor()\n",
    "    rows = cursor.execute('SELECT * FROM {}'.format(table)).fetchall()\n",
    "    num_rows = cursor.execute('select count(id) from {}'.format(table)).fetchone()[0]\n",
    "    for row in rows:\n",
    "        for item in row:\n",
    "            byte_count += sys.getsizeof(item)\n",
    "    connection.close()\n",
    "    return byte_count / num_rows\n",
    "\n",
    "def get_total_bytes(table):\n",
    "    connection = sqlite3.connect(table+'.db')\n",
    "    cursor = connection.cursor()\n",
    "    byte_count = 0\n",
    "    rows = cursor.execute('SELECT * FROM {}'.format(table)).fetchall()\n",
    "    for row in rows:\n",
    "        for item in row:\n",
    "            byte_count += sys.getsizeof(item)\n",
    "    connection.close()\n",
    "    return byte_count\n",
    "\n",
    "def all_submission_num_comments(submission_table):\n",
    "    return\n",
    "\n",
    "\n",
    "def get_comment_times(subreddit):\n",
    "    connection = sqlite3.connect(subreddit+'.db')\n",
    "    cursor = connection.cursor()\n",
    "    time_lst = []\n",
    "    comment_times = cursor.execute('select datetime from {}'.format(subreddit+'_comment_data')).fetchall()\n",
    "    for comment in comment_times:\n",
    "        time_lst.append(comment[0])\n",
    "    connection.close()\n",
    "    return time_lst\n",
    "\n",
    "def get_media_counts(subreddits):\n",
    "    media_table = Table().with_columns(['Name', [], 'Total Submissions',[],\n",
    "                                        'Text Posts',[], 'Pictures', [], 'Videos', [], 'Articles', []])\n",
    "    connection = sqlite3.connect(subreddit+'.db')\n",
    "    cursor = connection.cursor()\n",
    "    for s in subreddits:\n",
    "        total_submissions = cursor.execute('select count(*) from {}'.format(s+'_submission_data')).fetchone()[0]\n",
    "        picture_count = cursor.execute('select sum(picture) from {}'.format(s+'_submission_data')).fetchone()[0]\n",
    "        video_count = cursor.execute('select sum(video) from {}'.format(s+'_submission_data')).fetchone()[0]\n",
    "        article_count = cursor.execute('select sum(article) from {}'.format(s+'_submission_data')).fetchone()[0]\n",
    "        text_count = cursor.execute(\n",
    "            'select count(*) from {} where picture = 0 and video = 0 and article = 0'.format(s+'_submission_data')).fetchone()[0]\n",
    "        media_table = media_table.with_row([s, total_submissions, text_count, picture_count, video_count, article_count])\n",
    "    return media_table"
   ]
  },
  {
   "cell_type": "markdown",
   "metadata": {
    "collapsed": true
   },
   "source": [
    "Exploration\n",
    "========"
   ]
  },
  {
   "cell_type": "markdown",
   "metadata": {},
   "source": [
    "Test Plot for Reference\n",
    "--------------------------------------"
   ]
  },
  {
   "cell_type": "code",
   "execution_count": 4,
   "metadata": {
    "collapsed": false
   },
   "outputs": [
    {
     "ename": "NameError",
     "evalue": "name 'cursor' is not defined",
     "output_type": "error",
     "traceback": [
      "\u001b[0;31m---------------------------------------------------------------------------\u001b[0m",
      "\u001b[0;31mNameError\u001b[0m                                 Traceback (most recent call last)",
      "\u001b[0;32m<ipython-input-4-1455b0e39595>\u001b[0m in \u001b[0;36m<module>\u001b[0;34m()\u001b[0m\n\u001b[1;32m      8\u001b[0m \u001b[0mnum_submissions\u001b[0m \u001b[0;34m=\u001b[0m \u001b[0;34m[\u001b[0m\u001b[0;34m]\u001b[0m\u001b[0;34m\u001b[0m\u001b[0m\n\u001b[1;32m      9\u001b[0m \u001b[0;32mfor\u001b[0m \u001b[0mname\u001b[0m \u001b[0;32min\u001b[0m \u001b[0msubreddit_names\u001b[0m\u001b[0;34m:\u001b[0m\u001b[0;34m\u001b[0m\u001b[0m\n\u001b[0;32m---> 10\u001b[0;31m     \u001b[0msubmission_count\u001b[0m \u001b[0;34m=\u001b[0m \u001b[0mcursor\u001b[0m\u001b[0;34m.\u001b[0m\u001b[0mexecute\u001b[0m\u001b[0;34m(\u001b[0m\u001b[0;34m\"SELECT COUNT(ID) FROM {} where type = 'S';\"\u001b[0m\u001b[0;34m.\u001b[0m\u001b[0mformat\u001b[0m\u001b[0;34m(\u001b[0m\u001b[0mname\u001b[0m\u001b[0;34m)\u001b[0m\u001b[0;34m)\u001b[0m\u001b[0;34m.\u001b[0m\u001b[0mfetchone\u001b[0m\u001b[0;34m(\u001b[0m\u001b[0;34m)\u001b[0m\u001b[0;34m\u001b[0m\u001b[0m\n\u001b[0m\u001b[1;32m     11\u001b[0m     \u001b[0mnum_submissions\u001b[0m\u001b[0;34m.\u001b[0m\u001b[0mappend\u001b[0m\u001b[0;34m(\u001b[0m\u001b[0msubmission_count\u001b[0m\u001b[0;34m[\u001b[0m\u001b[0;36m0\u001b[0m\u001b[0;34m]\u001b[0m\u001b[0;34m)\u001b[0m\u001b[0;34m\u001b[0m\u001b[0m\n\u001b[1;32m     12\u001b[0m \u001b[0;34m\u001b[0m\u001b[0m\n",
      "\u001b[0;31mNameError\u001b[0m: name 'cursor' is not defined"
     ]
    }
   ],
   "source": [
    "subreddit_names = ['SFTS', 'anxiety', 'bipolar',\n",
    "                 'depression', 'gaming',\n",
    "                 'mentalhealth','needadvice',\n",
    "                 'offmychest']\n",
    "submission_data = ('SFTS_submission_data', 'anxiety_submission_data', 'bipolar_submission_data',\n",
    "               'depression_submission_data', 'gaming_submission_data', 'mentalhealth_submission_data',\n",
    "               'needadvice_submission_data', 'offmychest_submission_data')\n",
    "num_submissions = []\n",
    "for name in subreddit_names:\n",
    "    submission_count = cursor.execute(\"SELECT COUNT(ID) FROM {} where type = 'S';\".format(name)).fetchone()\n",
    "    num_submissions.append(submission_count[0])\n",
    "\n",
    "#plotting\n",
    "fig, ax = plt.subplots()\n",
    "ax.bar(np.arange(len(subreddit_names)), num_submissions, align='center') #, tick_label = subreddit_names)\n",
    "ax.set_ylabel(' # submissions', fontsize=20)\n",
    "plt.title('Number of Submissions per Subreddit', fontsize=20)\n",
    "ax.set_xticks(np.arange(len(subreddit_names)))\n",
    "ax.set_xticklabels(subreddit_names, rotation=45, fontsize=20)\n",
    "plt.show()"
   ]
  },
  {
   "cell_type": "markdown",
   "metadata": {},
   "source": [
    "## Preliminary Submission Data"
   ]
  },
  {
   "cell_type": "code",
   "execution_count": 7,
   "metadata": {
    "collapsed": false
   },
   "outputs": [
    {
     "data": {
      "text/html": [
       "<table border=\"1\" class=\"dataframe\">\n",
       "    <thead>\n",
       "        <tr>\n",
       "            <th>Subreddit</th> <th>Average Comment Per Submission</th> <th>Max Comments In a Submission</th> <th>Average Bytes per Submission</th> <th>Total Bytes</th>\n",
       "        </tr>\n",
       "    </thead>\n",
       "    <tbody>\n",
       "        <tr>\n",
       "            <td>SFTS        </td> <td>0.353591                      </td> <td>10                          </td> <td>258.088                     </td> <td>46714      </td>\n",
       "        </tr>\n",
       "    </tbody>\n",
       "        <tr>\n",
       "            <td>anxiety     </td> <td>0.83342                       </td> <td>106                         </td> <td>281.377                     </td> <td>1628330    </td>\n",
       "        </tr>\n",
       "    </tbody>\n",
       "        <tr>\n",
       "            <td>bipolar     </td> <td>0.905753                      </td> <td>107                         </td> <td>284.35                      </td> <td>2664073    </td>\n",
       "        </tr>\n",
       "    </tbody>\n",
       "        <tr>\n",
       "            <td>depression  </td> <td>0.812011                      </td> <td>150                         </td> <td>279.385                     </td> <td>1321212    </td>\n",
       "        </tr>\n",
       "    </tbody>\n",
       "        <tr>\n",
       "            <td>gaming      </td> <td>1.2785                        </td> <td>2937                        </td> <td>285.459                     </td> <td>2564566    </td>\n",
       "        </tr>\n",
       "    </tbody>\n",
       "        <tr>\n",
       "            <td>mentalhealth</td> <td>0.748742                      </td> <td>30                          </td> <td>277.015                     </td> <td>936032     </td>\n",
       "        </tr>\n",
       "    </tbody>\n",
       "        <tr>\n",
       "            <td>needadvice  </td> <td>0.855197                      </td> <td>34                          </td> <td>282.065                     </td> <td>393481     </td>\n",
       "        </tr>\n",
       "    </tbody>\n",
       "        <tr>\n",
       "            <td>offmychest  </td> <td>0.891808                      </td> <td>289                         </td> <td>277.092                     </td> <td>1075671    </td>\n",
       "        </tr>\n",
       "    </tbody>\n",
       "</table>"
      ],
      "text/plain": [
       "Subreddit    | Average Comment Per Submission | Max Comments In a Submission | Average Bytes per Submission | Total Bytes\n",
       "SFTS         | 0.353591                       | 10                           | 258.088                      | 46714\n",
       "anxiety      | 0.83342                        | 106                          | 281.377                      | 1628330\n",
       "bipolar      | 0.905753                       | 107                          | 284.35                       | 2664073\n",
       "depression   | 0.812011                       | 150                          | 279.385                      | 1321212\n",
       "gaming       | 1.2785                         | 2937                         | 285.459                      | 2564566\n",
       "mentalhealth | 0.748742                       | 30                           | 277.015                      | 936032\n",
       "needadvice   | 0.855197                       | 34                           | 282.065                      | 393481\n",
       "offmychest   | 0.891808                       | 289                          | 277.092                      | 1075671"
      ]
     },
     "execution_count": 7,
     "metadata": {},
     "output_type": "execute_result"
    },
    {
     "data": {
      "image/png": "[encoded data removed]",
      "text/plain": [
       "<matplotlib.figure.Figure at 0x10834bda0>"
      ]
     },
     "metadata": {},
     "output_type": "display_data"
    },
    {
     "data": {
      "image/png": "[encoded data removed]",
      "text/plain": [
       "<matplotlib.figure.Figure at 0x108515160>"
      ]
     },
     "metadata": {},
     "output_type": "display_data"
    }
   ],
   "source": [
    "subreddit_names = ['SFTS', 'anxiety', 'bipolar',\n",
    "                 'depression', 'gaming',\n",
    "                 'mentalhealth','needadvice',\n",
    "                 'offmychest']\n",
    "submission_data = ('SFTS_submission_data', 'anxiety_submission_data', 'bipolar_submission_data',\n",
    "               'depression_submission_data', 'gaming_submission_data', 'mentalhealth_submission_data',\n",
    "               'needadvice_submission_data', 'offmychest_submission_data')\n",
    "avg_num_comment_lst = []\n",
    "max_num_comment_lst = []\n",
    "total_bytes_lst = []\n",
    "avg_bytes_per_submission_lst = []\n",
    "for subreddit in subreddit_names:\n",
    "    avg_num = avg_num_comments(subreddit)\n",
    "    max_comments = max_num_comments(subreddit)\n",
    "    total_bytes = get_total_bytes(subreddit)\n",
    "    avg_bytes = get_avg_row_bytes(subreddit)\n",
    "    max_num_comment_lst += [max_comments]\n",
    "    avg_num_comment_lst += [avg_num]\n",
    "    total_bytes_lst += [total_bytes]\n",
    "    avg_bytes_per_submission_lst += [avg_bytes]\n",
    "avg_num_comment_lst\n",
    "x = Table().with_columns(\n",
    "          ['Subreddit', subreddit_names, 'Average Comment Per Submission',avg_num_comment_lst,\n",
    "                    'Max Comments In a Submission', max_num_comment_lst, 'Average Bytes per Submission',\n",
    "                    avg_bytes_per_submission_lst, 'Total Bytes', total_bytes_lst])\n",
    "\n",
    "# fig, ax = plt.subplots()\n",
    "# ax.bar(np.arange(len(subreddit_names)), num_threads, align='center') #, tick_label = subreddit_names)\n",
    "# ax.set_ylabel(' # submissions', fontsize=20)\n",
    "# plt.title('Number of Submissions per Subreddit', fontsize=20)\n",
    "# ax.set_xticks(np.arange(len(subreddit_names)))\n",
    "# ax.set_xticklabels(subreddit_names, rotation=45, fontsize=20)\n",
    "# plt.show()\n",
    "#x\n",
    "x.barh(column_for_categories='Subreddit', overlay = False)\n",
    "x.select(['Average Comment Per Submission']).hist()\n",
    "#x.barh('Subreddit', 'Max Comments in a Submission')\n",
    "x"
   ]
  },
  {
   "cell_type": "markdown",
   "metadata": {},
   "source": [
    "## Comments"
   ]
  },
  {
   "cell_type": "code",
   "execution_count": 10,
   "metadata": {
    "collapsed": false
   },
   "outputs": [
    {
     "data": {
      "text/html": [
       "<table border=\"1\" class=\"dataframe\">\n",
       "    <thead>\n",
       "        <tr>\n",
       "            <th>Name</th> <th>Total Submissions</th> <th>Text Posts</th> <th>Pictures</th> <th>Videos</th> <th>Articles</th>\n",
       "        </tr>\n",
       "    </thead>\n",
       "    <tbody>\n",
       "        <tr>\n",
       "            <td>SFTS        </td> <td>1004             </td> <td>1004      </td> <td>0       </td> <td>0     </td> <td>0       </td>\n",
       "        </tr>\n",
       "    </tbody>\n",
       "        <tr>\n",
       "            <td>anxiety     </td> <td>1004             </td> <td>1004      </td> <td>0       </td> <td>0     </td> <td>0       </td>\n",
       "        </tr>\n",
       "    </tbody>\n",
       "        <tr>\n",
       "            <td>bipolar     </td> <td>1004             </td> <td>1004      </td> <td>0       </td> <td>0     </td> <td>0       </td>\n",
       "        </tr>\n",
       "    </tbody>\n",
       "        <tr>\n",
       "            <td>depression  </td> <td>1004             </td> <td>1004      </td> <td>0       </td> <td>0     </td> <td>0       </td>\n",
       "        </tr>\n",
       "    </tbody>\n",
       "        <tr>\n",
       "            <td>gaming      </td> <td>1004             </td> <td>1004      </td> <td>0       </td> <td>0     </td> <td>0       </td>\n",
       "        </tr>\n",
       "    </tbody>\n",
       "        <tr>\n",
       "            <td>mentalhealth</td> <td>1004             </td> <td>1004      </td> <td>0       </td> <td>0     </td> <td>0       </td>\n",
       "        </tr>\n",
       "    </tbody>\n",
       "        <tr>\n",
       "            <td>needadvice  </td> <td>1004             </td> <td>1004      </td> <td>0       </td> <td>0     </td> <td>0       </td>\n",
       "        </tr>\n",
       "    </tbody>\n",
       "        <tr>\n",
       "            <td>offmychest  </td> <td>1004             </td> <td>1004      </td> <td>0       </td> <td>0     </td> <td>0       </td>\n",
       "        </tr>\n",
       "    </tbody>\n",
       "</table>"
      ],
      "text/plain": [
       "Name         | Total Submissions | Text Posts | Pictures | Videos | Articles\n",
       "SFTS         | 1004              | 1004       | 0        | 0      | 0\n",
       "anxiety      | 1004              | 1004       | 0        | 0      | 0\n",
       "bipolar      | 1004              | 1004       | 0        | 0      | 0\n",
       "depression   | 1004              | 1004       | 0        | 0      | 0\n",
       "gaming       | 1004              | 1004       | 0        | 0      | 0\n",
       "mentalhealth | 1004              | 1004       | 0        | 0      | 0\n",
       "needadvice   | 1004              | 1004       | 0        | 0      | 0\n",
       "offmychest   | 1004              | 1004       | 0        | 0      | 0"
      ]
     },
     "execution_count": 10,
     "metadata": {},
     "output_type": "execute_result"
    }
   ],
   "source": [
    "all_dates = []\n",
    "for subreddit in subreddit_names:\n",
    "    data = get_comment_times(subreddit)\n",
    "    all_dates += [mdate.strpdate2num(date) for date in data]\n",
    "get_media_counts(subreddit_names)\n",
    "# # plot it\n",
    "# fig, ax = plt.subplots(1,1)\n",
    "# ax.hist(mpl_data, bins=50, color='lightblue')\n",
    "# ax.xaxis.set_major_locator(mdates.YearLocator())\n",
    "# ax.xaxis.set_major_formatter(mdates.DateFormatter('%d.%m.%y'))\n",
    "# plt.show()\n"
   ]
  },
  {
   "cell_type": "code",
   "execution_count": null,
   "metadata": {
    "collapsed": true
   },
   "outputs": [],
   "source": []
  }
 ],
 "metadata": {
  "kernelspec": {
   "display_name": "Python 3",
   "language": "python",
   "name": "python3"
  },
  "language_info": {
   "codemirror_mode": {
    "name": "ipython",
    "version": 3
   },
   "file_extension": ".py",
   "mimetype": "text/x-python",
   "name": "python",
   "nbconvert_exporter": "python",
   "pygments_lexer": "ipython3",
   "version": "3.4.3"
  }
 },
 "nbformat": 4,
 "nbformat_minor": 0
}
